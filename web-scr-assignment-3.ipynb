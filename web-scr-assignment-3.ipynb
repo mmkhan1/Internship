{
 "cells": [
  {
   "cell_type": "code",
   "execution_count": 16,
   "id": "fddb86f0",
   "metadata": {},
   "outputs": [],
   "source": [
    "import selenium\n",
    "from selenium import webdriver\n",
    "import pandas as pd\n",
    "from selenium.webdriver.common.by import By\n",
    "import warnings\n",
    "warnings.filterwarnings(\"ignore\")\n",
    "import time"
   ]
  },
  {
   "cell_type": "code",
   "execution_count": 36,
   "id": "e63629cf",
   "metadata": {},
   "outputs": [],
   "source": [
    "driver = webdriver.Chrome(r'C:\\Users\\mohsi\\Downloads\\chromedriver_win32\\chromedriver.exe')"
   ]
  },
  {
   "cell_type": "code",
   "execution_count": 37,
   "id": "444d169f",
   "metadata": {},
   "outputs": [],
   "source": [
    "driver.maximize_window()"
   ]
  },
  {
   "cell_type": "code",
   "execution_count": 38,
   "id": "83612236",
   "metadata": {},
   "outputs": [],
   "source": [
    "url = 'https://www.amazon.in/'\n",
    "driver.get(url)"
   ]
  },
  {
   "cell_type": "code",
   "execution_count": 39,
   "id": "7eb447af",
   "metadata": {},
   "outputs": [],
   "source": [
    "# finding web element and send text to in search bar\n",
    "search_guit = driver.find_element(By.ID, \"twotabsearchtextbox\")\n",
    "search_guit.send_keys(\"guitar\")"
   ]
  },
  {
   "cell_type": "code",
   "execution_count": 40,
   "id": "76add0b7",
   "metadata": {},
   "outputs": [],
   "source": [
    "# click on button\n",
    "search_btn=driver.find_element(By.ID,\"nav-search-submit-button\")\n",
    "search_btn.click()"
   ]
  },
  {
   "cell_type": "code",
   "execution_count": 41,
   "id": "0c29fce6",
   "metadata": {},
   "outputs": [
    {
     "ename": "InvalidArgumentException",
     "evalue": "Message: invalid argument: 'url' must be a string\n  (Session info: chrome=107.0.5304.121)\nStacktrace:\nBacktrace:\n\tOrdinal0 [0x004EACD3+2075859]\n\tOrdinal0 [0x0047EE61+1633889]\n\tOrdinal0 [0x0037B7BD+571325]\n\tOrdinal0 [0x003DBD46+965958]\n\tOrdinal0 [0x003C731C+881436]\n\tOrdinal0 [0x003DB56A+963946]\n\tOrdinal0 [0x003C7136+880950]\n\tOrdinal0 [0x0039FEFD+720637]\n\tOrdinal0 [0x003A0F3F+724799]\n\tGetHandleVerifier [0x0079EED2+2769538]\n\tGetHandleVerifier [0x00790D95+2711877]\n\tGetHandleVerifier [0x0057A03A+521194]\n\tGetHandleVerifier [0x00578DA0+516432]\n\tOrdinal0 [0x0048682C+1665068]\n\tOrdinal0 [0x0048B128+1683752]\n\tOrdinal0 [0x0048B215+1683989]\n\tOrdinal0 [0x00496484+1729668]\n\tBaseThreadInitThunk [0x76C86939+25]\n\tRtlGetFullPathName_UEx [0x77EA8FD2+1218]\n\tRtlGetFullPathName_UEx [0x77EA8F9D+1165]\n",
     "output_type": "error",
     "traceback": [
      "\u001b[1;31m---------------------------------------------------------------------------\u001b[0m",
      "\u001b[1;31mInvalidArgumentException\u001b[0m                  Traceback (most recent call last)",
      "Input \u001b[1;32mIn [41]\u001b[0m, in \u001b[0;36m<cell line: 15>\u001b[1;34m()\u001b[0m\n\u001b[0;32m     13\u001b[0m Brand \u001b[38;5;241m=\u001b[39m []\n\u001b[0;32m     15\u001b[0m \u001b[38;5;28;01mfor\u001b[39;00m url \u001b[38;5;129;01min\u001b[39;00m prod_urls:\n\u001b[1;32m---> 16\u001b[0m     \u001b[43mdriver\u001b[49m\u001b[38;5;241;43m.\u001b[39;49m\u001b[43mget\u001b[49m\u001b[43m(\u001b[49m\u001b[43murl\u001b[49m\u001b[43m)\u001b[49m\n\u001b[0;32m     17\u001b[0m     time\u001b[38;5;241m.\u001b[39msleep(\u001b[38;5;241m1\u001b[39m)\n\u001b[0;32m     19\u001b[0m     \u001b[38;5;66;03m# extraction brand name\u001b[39;00m\n",
      "File \u001b[1;32m~\\anaconda3\\lib\\site-packages\\selenium\\webdriver\\remote\\webdriver.py:441\u001b[0m, in \u001b[0;36mWebDriver.get\u001b[1;34m(self, url)\u001b[0m\n\u001b[0;32m    437\u001b[0m \u001b[38;5;28;01mdef\u001b[39;00m \u001b[38;5;21mget\u001b[39m(\u001b[38;5;28mself\u001b[39m, url: \u001b[38;5;28mstr\u001b[39m) \u001b[38;5;241m-\u001b[39m\u001b[38;5;241m>\u001b[39m \u001b[38;5;28;01mNone\u001b[39;00m:\n\u001b[0;32m    438\u001b[0m     \u001b[38;5;124;03m\"\"\"\u001b[39;00m\n\u001b[0;32m    439\u001b[0m \u001b[38;5;124;03m    Loads a web page in the current browser session.\u001b[39;00m\n\u001b[0;32m    440\u001b[0m \u001b[38;5;124;03m    \"\"\"\u001b[39;00m\n\u001b[1;32m--> 441\u001b[0m     \u001b[38;5;28;43mself\u001b[39;49m\u001b[38;5;241;43m.\u001b[39;49m\u001b[43mexecute\u001b[49m\u001b[43m(\u001b[49m\u001b[43mCommand\u001b[49m\u001b[38;5;241;43m.\u001b[39;49m\u001b[43mGET\u001b[49m\u001b[43m,\u001b[49m\u001b[43m \u001b[49m\u001b[43m{\u001b[49m\u001b[38;5;124;43m'\u001b[39;49m\u001b[38;5;124;43murl\u001b[39;49m\u001b[38;5;124;43m'\u001b[39;49m\u001b[43m:\u001b[49m\u001b[43m \u001b[49m\u001b[43murl\u001b[49m\u001b[43m}\u001b[49m\u001b[43m)\u001b[49m\n",
      "File \u001b[1;32m~\\anaconda3\\lib\\site-packages\\selenium\\webdriver\\remote\\webdriver.py:429\u001b[0m, in \u001b[0;36mWebDriver.execute\u001b[1;34m(self, driver_command, params)\u001b[0m\n\u001b[0;32m    427\u001b[0m response \u001b[38;5;241m=\u001b[39m \u001b[38;5;28mself\u001b[39m\u001b[38;5;241m.\u001b[39mcommand_executor\u001b[38;5;241m.\u001b[39mexecute(driver_command, params)\n\u001b[0;32m    428\u001b[0m \u001b[38;5;28;01mif\u001b[39;00m response:\n\u001b[1;32m--> 429\u001b[0m     \u001b[38;5;28;43mself\u001b[39;49m\u001b[38;5;241;43m.\u001b[39;49m\u001b[43merror_handler\u001b[49m\u001b[38;5;241;43m.\u001b[39;49m\u001b[43mcheck_response\u001b[49m\u001b[43m(\u001b[49m\u001b[43mresponse\u001b[49m\u001b[43m)\u001b[49m\n\u001b[0;32m    430\u001b[0m     response[\u001b[38;5;124m'\u001b[39m\u001b[38;5;124mvalue\u001b[39m\u001b[38;5;124m'\u001b[39m] \u001b[38;5;241m=\u001b[39m \u001b[38;5;28mself\u001b[39m\u001b[38;5;241m.\u001b[39m_unwrap_value(\n\u001b[0;32m    431\u001b[0m         response\u001b[38;5;241m.\u001b[39mget(\u001b[38;5;124m'\u001b[39m\u001b[38;5;124mvalue\u001b[39m\u001b[38;5;124m'\u001b[39m, \u001b[38;5;28;01mNone\u001b[39;00m))\n\u001b[0;32m    432\u001b[0m     \u001b[38;5;28;01mreturn\u001b[39;00m response\n",
      "File \u001b[1;32m~\\anaconda3\\lib\\site-packages\\selenium\\webdriver\\remote\\errorhandler.py:243\u001b[0m, in \u001b[0;36mErrorHandler.check_response\u001b[1;34m(self, response)\u001b[0m\n\u001b[0;32m    241\u001b[0m         alert_text \u001b[38;5;241m=\u001b[39m value[\u001b[38;5;124m'\u001b[39m\u001b[38;5;124malert\u001b[39m\u001b[38;5;124m'\u001b[39m]\u001b[38;5;241m.\u001b[39mget(\u001b[38;5;124m'\u001b[39m\u001b[38;5;124mtext\u001b[39m\u001b[38;5;124m'\u001b[39m)\n\u001b[0;32m    242\u001b[0m     \u001b[38;5;28;01mraise\u001b[39;00m exception_class(message, screen, stacktrace, alert_text)  \u001b[38;5;66;03m# type: ignore[call-arg]  # mypy is not smart enough here\u001b[39;00m\n\u001b[1;32m--> 243\u001b[0m \u001b[38;5;28;01mraise\u001b[39;00m exception_class(message, screen, stacktrace)\n",
      "\u001b[1;31mInvalidArgumentException\u001b[0m: Message: invalid argument: 'url' must be a string\n  (Session info: chrome=107.0.5304.121)\nStacktrace:\nBacktrace:\n\tOrdinal0 [0x004EACD3+2075859]\n\tOrdinal0 [0x0047EE61+1633889]\n\tOrdinal0 [0x0037B7BD+571325]\n\tOrdinal0 [0x003DBD46+965958]\n\tOrdinal0 [0x003C731C+881436]\n\tOrdinal0 [0x003DB56A+963946]\n\tOrdinal0 [0x003C7136+880950]\n\tOrdinal0 [0x0039FEFD+720637]\n\tOrdinal0 [0x003A0F3F+724799]\n\tGetHandleVerifier [0x0079EED2+2769538]\n\tGetHandleVerifier [0x00790D95+2711877]\n\tGetHandleVerifier [0x0057A03A+521194]\n\tGetHandleVerifier [0x00578DA0+516432]\n\tOrdinal0 [0x0048682C+1665068]\n\tOrdinal0 [0x0048B128+1683752]\n\tOrdinal0 [0x0048B215+1683989]\n\tOrdinal0 [0x00496484+1729668]\n\tBaseThreadInitThunk [0x76C86939+25]\n\tRtlGetFullPathName_UEx [0x77EA8FD2+1218]\n\tRtlGetFullPathName_UEx [0x77EA8F9D+1165]\n"
     ]
    }
   ],
   "source": [
    "prod_urls = []\n",
    "start=0\n",
    "end=2\n",
    "for page in range(start,end): # for loop for scrapping 3 pages\n",
    "    url = driver.find_elements(By.XPATH,'/html/body/div[1]/div[2]/div[1]/div[1]/div/span[1]/div[1]/div[3]/div/div/div/div/div/div/div[2]/div[1]/h2')\n",
    "    for i in url:\n",
    "        prod_urls.append(i.get_attribute(\"href\"))  #appending the urls in product_url list\n",
    "    nxt_button=driver.find_element(By.XPATH,\"/html/body/div[1]/div[2]/div[1]/div[1]/div/span[1]/div[1]/div[9]/div/div/div/div/div[2]/div[1]/h2/a\")\n",
    "    nxt_button.click()\n",
    "    time.sleep(2)\n",
    "    \n",
    "# make empty lists\n",
    "Brand = []\n",
    "\n",
    "for url in prod_urls:\n",
    "    driver.get(url)\n",
    "    time.sleep(1)\n",
    "        \n",
    "    # extraction brand name\n",
    "    try:\n",
    "        brand = driver.find_element(By.XPATH,\"/html/body/div[1]/div[2]/div[1]/div[1]/div/span[1]/div[1]/div[3]/div/div/div/div/div/div/div[2]/div[1]/h2\")\n",
    "        Brand.append(brand.text)\n",
    "    except NoSuchElementException:\n",
    "        Brand.append('-')\n",
    "Brand"
   ]
  },
  {
   "cell_type": "markdown",
   "id": "d4e7f8b3",
   "metadata": {},
   "source": [
    "# Question 3 (copy 10 images from google images)"
   ]
  },
  {
   "cell_type": "code",
   "execution_count": 77,
   "id": "e6a8cd91",
   "metadata": {},
   "outputs": [],
   "source": [
    "driver = webdriver.Chrome(r'C:\\Users\\mohsi\\Downloads\\chromedriver_win32\\chromedriver.exe')"
   ]
  },
  {
   "cell_type": "code",
   "execution_count": 48,
   "id": "c05f01b0",
   "metadata": {},
   "outputs": [
    {
     "name": "stdout",
     "output_type": "stream",
     "text": [
      "Requirement already satisfied: requests in c:\\users\\mohsi\\anaconda3\\lib\\site-packages (2.27.1)\n",
      "Requirement already satisfied: charset-normalizer~=2.0.0 in c:\\users\\mohsi\\anaconda3\\lib\\site-packages (from requests) (2.0.4)\n",
      "Requirement already satisfied: idna<4,>=2.5 in c:\\users\\mohsi\\anaconda3\\lib\\site-packages (from requests) (3.3)\n",
      "Requirement already satisfied: urllib3<1.27,>=1.21.1 in c:\\users\\mohsi\\anaconda3\\lib\\site-packages (from requests) (1.26.9)\n",
      "Requirement already satisfied: certifi>=2017.4.17 in c:\\users\\mohsi\\anaconda3\\lib\\site-packages (from requests) (2021.10.8)\n",
      "Note: you may need to restart the kernel to use updated packages.\n"
     ]
    }
   ],
   "source": [
    "pip install requests"
   ]
  },
  {
   "cell_type": "code",
   "execution_count": 78,
   "id": "88e9328d",
   "metadata": {},
   "outputs": [],
   "source": [
    "driver.maximize_window()"
   ]
  },
  {
   "cell_type": "code",
   "execution_count": 79,
   "id": "8d3ea883",
   "metadata": {},
   "outputs": [],
   "source": [
    "url = 'https://images.google.com/'\n",
    "driver.get(url)"
   ]
  },
  {
   "cell_type": "code",
   "execution_count": 80,
   "id": "598403cd",
   "metadata": {},
   "outputs": [],
   "source": [
    "# finding web element and send text to in search bar\n",
    "search_guit = driver.find_element(By.CLASS_NAME, \"gLFyf\")\n",
    "search_guit.send_keys(\"cake\")"
   ]
  },
  {
   "cell_type": "code",
   "execution_count": 81,
   "id": "f3228adf",
   "metadata": {},
   "outputs": [],
   "source": [
    "# click on button\n",
    "search_btn=driver.find_element(By.CLASS_NAME,\"Tg7LZd\")\n",
    "search_btn.click()"
   ]
  },
  {
   "cell_type": "code",
   "execution_count": 50,
   "id": "64420959",
   "metadata": {},
   "outputs": [],
   "source": [
    "import requests"
   ]
  },
  {
   "cell_type": "code",
   "execution_count": 82,
   "id": "08132a02",
   "metadata": {},
   "outputs": [
    {
     "name": "stdout",
     "output_type": "stream",
     "text": [
      "Downloading 0 of 10 images\n",
      "Downloading 1 of 10 images\n",
      "Downloading 2 of 10 images\n",
      "Downloading 3 of 10 images\n",
      "Downloading 4 of 10 images\n",
      "Downloading 5 of 10 images\n",
      "Downloading 6 of 10 images\n",
      "Downloading 7 of 10 images\n",
      "Downloading 8 of 10 images\n",
      "Downloading 9 of 10 images\n",
      "Downloading 10 of 10 images\n"
     ]
    }
   ],
   "source": [
    "# 20 time we scroll down by 1000 in order to generate\n",
    "for _ in range(20):\n",
    "    driver.execute_script(\"window.scrollBy(0,1000)\")\n",
    "\n",
    "images = driver.find_elements(By.XPATH, '//img[@class=\"rg_i Q4LuWd\"]')\n",
    "\n",
    "img_urls = []\n",
    "img_data = []\n",
    "for image in images:\n",
    "    source=image.get_attribute('src')\n",
    "    if source is not None:\n",
    "        if(source[0:4] == 'http'):\n",
    "            img_urls.append(source)\n",
    "            \n",
    "for i in range(len(img_urls)):\n",
    "    if i > 10:\n",
    "        break\n",
    "    print(\"Downloading {0} of {1} images\" .format(i, 10))\n",
    "    response = requests.get(img_urls[i])\n",
    "    file = open(r\"C:\\Users\\mohsi\\Documents\\worksheet_set_1\\fliprobo\\cake\\\\\"+str(i)+\".jpg\",\"wb\")\n",
    "    file.write(response.content)"
   ]
  },
  {
   "cell_type": "code",
   "execution_count": null,
   "id": "8ef323df",
   "metadata": {},
   "outputs": [],
   "source": []
  },
  {
   "cell_type": "markdown",
   "id": "06644f53",
   "metadata": {},
   "source": [
    "# Question 4"
   ]
  },
  {
   "cell_type": "code",
   "execution_count": 174,
   "id": "1a8ca973",
   "metadata": {},
   "outputs": [],
   "source": [
    "driver = webdriver.Chrome(r'C:\\Users\\mohsi\\Downloads\\chromedriver_win32\\chromedriver.exe')"
   ]
  },
  {
   "cell_type": "code",
   "execution_count": 175,
   "id": "75d902b8",
   "metadata": {},
   "outputs": [],
   "source": [
    "driver.maximize_window()"
   ]
  },
  {
   "cell_type": "code",
   "execution_count": 176,
   "id": "296d3965",
   "metadata": {},
   "outputs": [],
   "source": [
    "url = 'https://www.flipkart.com/'\n",
    "driver.get(url)"
   ]
  },
  {
   "cell_type": "code",
   "execution_count": 177,
   "id": "cd1e9a24",
   "metadata": {},
   "outputs": [],
   "source": [
    "# close the popup\n",
    "close_btn = driver.find_element(By.XPATH,'/html/body/div[2]/div/div/button')\n",
    "close_btn.click()"
   ]
  },
  {
   "cell_type": "code",
   "execution_count": 178,
   "id": "128b05fd",
   "metadata": {},
   "outputs": [],
   "source": [
    "# finding web element and send text to in search bar\n",
    "search_job = driver.find_element(By.CLASS_NAME,\"_3704LK\")\n",
    "search_job.send_keys(\"Oneplus Nord\")"
   ]
  },
  {
   "cell_type": "code",
   "execution_count": 179,
   "id": "4dcfda15",
   "metadata": {},
   "outputs": [],
   "source": [
    "# click on button\n",
    "search_btn=driver.find_element(By.XPATH,\"//button[@class='L0Z3Pu']\")\n",
    "search_btn.click()"
   ]
  },
  {
   "cell_type": "code",
   "execution_count": 180,
   "id": "44d41298",
   "metadata": {},
   "outputs": [],
   "source": [
    "B_name=[]\n",
    "Price=[]\n",
    "P_desc=[]\n",
    "Color=[]\n",
    "Ram=[]\n",
    "P_camera=[]\n",
    "S_camera=[]\n",
    "D_size=[]\n",
    "Battery=[]\n",
    "url=[]"
   ]
  },
  {
   "cell_type": "code",
   "execution_count": 169,
   "id": "6ed1ace7",
   "metadata": {},
   "outputs": [],
   "source": [
    "for i in range(1):\n",
    "    b_name=driver.find_elements(By.XPATH,\"//div[@class='_4rR01T']\")\n",
    "    p_desc=driver.find_elements(By.XPATH,\"//div[@class='_4rR01T']\")\n",
    "    price =driver.find_elements(By.XPATH,\"//div[@class='_30jeq3 _1_WHN1']\")\n",
    "    color=driver.find_elements(By.XPATH,\"//div[@class='_4rR01T']\")\n",
    "    \n",
    "    for j  in b_name:\n",
    "        B_name.append(j.text)\n",
    "    B_name\n",
    "    \n",
    "    \n",
    "    \n",
    "    for k in p_desc:\n",
    "        P_desc.append(k.text)\n",
    "    P_desc\n",
    "    \n",
    "     \n",
    "    for l in price:\n",
    "        Price.append(l.text)\n",
    "    Price\n",
    "    \n",
    "    \n",
    "    for t in color:\n",
    "        Color.append(t.text)\n",
    "        Color"
   ]
  },
  {
   "cell_type": "code",
   "execution_count": null,
   "id": "a8516dcd",
   "metadata": {},
   "outputs": [],
   "source": [
    "B_name = "
   ]
  },
  {
   "cell_type": "code",
   "execution_count": 170,
   "id": "8f5dfcb6",
   "metadata": {},
   "outputs": [
    {
     "name": "stdout",
     "output_type": "stream",
     "text": [
      "24\n",
      "24\n",
      "24\n",
      "24 None\n"
     ]
    },
    {
     "data": {
      "text/plain": [
       "(None, None, None)"
      ]
     },
     "execution_count": 170,
     "metadata": {},
     "output_type": "execute_result"
    }
   ],
   "source": [
    "print(len(B_name)),print(len(Price)),print(len(P_desc), print(len(Color)))"
   ]
  },
  {
   "cell_type": "code",
   "execution_count": 163,
   "id": "a636bbf3",
   "metadata": {},
   "outputs": [
    {
     "data": {
      "text/html": [
       "<div>\n",
       "<style scoped>\n",
       "    .dataframe tbody tr th:only-of-type {\n",
       "        vertical-align: middle;\n",
       "    }\n",
       "\n",
       "    .dataframe tbody tr th {\n",
       "        vertical-align: top;\n",
       "    }\n",
       "\n",
       "    .dataframe thead th {\n",
       "        text-align: right;\n",
       "    }\n",
       "</style>\n",
       "<table border=\"1\" class=\"dataframe\">\n",
       "  <thead>\n",
       "    <tr style=\"text-align: right;\">\n",
       "      <th></th>\n",
       "      <th>Brand Name</th>\n",
       "      <th>Price</th>\n",
       "      <th>Description</th>\n",
       "      <th>Color</th>\n",
       "    </tr>\n",
       "  </thead>\n",
       "  <tbody>\n",
       "    <tr>\n",
       "      <th>0</th>\n",
       "      <td>OnePlus Nord CE 2 Lite 5G (Blue Tide, 128 GB)</td>\n",
       "      <td>₹19,792</td>\n",
       "      <td>OnePlus Nord CE 2 Lite 5G (Blue Tide, 128 GB)</td>\n",
       "      <td>OnePlus Nord CE 2 Lite 5G (Blue Tide, 128 GB)</td>\n",
       "    </tr>\n",
       "    <tr>\n",
       "      <th>1</th>\n",
       "      <td>OnePlus Nord CE 2 Lite 5G (Blue Tide, 128 GB)</td>\n",
       "      <td>₹19,549</td>\n",
       "      <td>OnePlus Nord CE 2 Lite 5G (Blue Tide, 128 GB)</td>\n",
       "      <td>OnePlus Nord CE 2 Lite 5G (Blue Tide, 128 GB)</td>\n",
       "    </tr>\n",
       "    <tr>\n",
       "      <th>2</th>\n",
       "      <td>OnePlus Nord CE 2 Lite 5G (Black Dusk, 128 GB)</td>\n",
       "      <td>₹19,999</td>\n",
       "      <td>OnePlus Nord CE 2 Lite 5G (Black Dusk, 128 GB)</td>\n",
       "      <td>OnePlus Nord CE 2 Lite 5G (Black Dusk, 128 GB)</td>\n",
       "    </tr>\n",
       "    <tr>\n",
       "      <th>3</th>\n",
       "      <td>OnePlus Nord 2T 5G (Jade Fog, 128 GB)</td>\n",
       "      <td>₹28,849</td>\n",
       "      <td>OnePlus Nord 2T 5G (Jade Fog, 128 GB)</td>\n",
       "      <td>OnePlus Nord 2T 5G (Jade Fog, 128 GB)</td>\n",
       "    </tr>\n",
       "    <tr>\n",
       "      <th>4</th>\n",
       "      <td>OnePlus Nord 2T 5G (Gray Shadow, 128 GB)</td>\n",
       "      <td>₹28,999</td>\n",
       "      <td>OnePlus Nord 2T 5G (Gray Shadow, 128 GB)</td>\n",
       "      <td>OnePlus Nord 2T 5G (Gray Shadow, 128 GB)</td>\n",
       "    </tr>\n",
       "    <tr>\n",
       "      <th>5</th>\n",
       "      <td>OnePlus Nord N20 SE (Blue Oasis, 64 MB)</td>\n",
       "      <td>₹14,499</td>\n",
       "      <td>OnePlus Nord N20 SE (Blue Oasis, 64 MB)</td>\n",
       "      <td>OnePlus Nord N20 SE (Blue Oasis, 64 MB)</td>\n",
       "    </tr>\n",
       "    <tr>\n",
       "      <th>6</th>\n",
       "      <td>OnePlus Nord CE 2 5G (Gray Mirror, 128 GB)</td>\n",
       "      <td>₹24,999</td>\n",
       "      <td>OnePlus Nord CE 2 5G (Gray Mirror, 128 GB)</td>\n",
       "      <td>OnePlus Nord CE 2 5G (Gray Mirror, 128 GB)</td>\n",
       "    </tr>\n",
       "    <tr>\n",
       "      <th>7</th>\n",
       "      <td>OnePlus Nord CE 2 Lite 5G (Blue Tide, 128 GB)</td>\n",
       "      <td>₹19,706</td>\n",
       "      <td>OnePlus Nord CE 2 Lite 5G (Blue Tide, 128 GB)</td>\n",
       "      <td>OnePlus Nord CE 2 Lite 5G (Blue Tide, 128 GB)</td>\n",
       "    </tr>\n",
       "    <tr>\n",
       "      <th>8</th>\n",
       "      <td>OnePlus Nord 2T 5G (Gray Shadow, 256 GB)</td>\n",
       "      <td>₹33,900</td>\n",
       "      <td>OnePlus Nord 2T 5G (Gray Shadow, 256 GB)</td>\n",
       "      <td>OnePlus Nord 2T 5G (Gray Shadow, 256 GB)</td>\n",
       "    </tr>\n",
       "    <tr>\n",
       "      <th>9</th>\n",
       "      <td>OnePlus Nord 2T 5G (Gray Shadow, 256 GB)</td>\n",
       "      <td>₹33,860</td>\n",
       "      <td>OnePlus Nord 2T 5G (Gray Shadow, 256 GB)</td>\n",
       "      <td>OnePlus Nord 2T 5G (Gray Shadow, 256 GB)</td>\n",
       "    </tr>\n",
       "    <tr>\n",
       "      <th>10</th>\n",
       "      <td>OnePlus Nord 2T 5G (Jade Fog, 128 GB)</td>\n",
       "      <td>₹28,999</td>\n",
       "      <td>OnePlus Nord 2T 5G (Jade Fog, 128 GB)</td>\n",
       "      <td>OnePlus Nord 2T 5G (Jade Fog, 128 GB)</td>\n",
       "    </tr>\n",
       "    <tr>\n",
       "      <th>11</th>\n",
       "      <td>OnePlus Nord 2T 5G (Jade Fog, 256 GB)</td>\n",
       "      <td>₹33,999</td>\n",
       "      <td>OnePlus Nord 2T 5G (Jade Fog, 256 GB)</td>\n",
       "      <td>OnePlus Nord 2T 5G (Jade Fog, 256 GB)</td>\n",
       "    </tr>\n",
       "    <tr>\n",
       "      <th>12</th>\n",
       "      <td>OnePlus Nord 2T 5G (Gray Shadow, 256 GB)</td>\n",
       "      <td>₹33,999</td>\n",
       "      <td>OnePlus Nord 2T 5G (Gray Shadow, 256 GB)</td>\n",
       "      <td>OnePlus Nord 2T 5G (Gray Shadow, 256 GB)</td>\n",
       "    </tr>\n",
       "    <tr>\n",
       "      <th>13</th>\n",
       "      <td>OnePlus Nord 2 5G (Gray Sierra, 128 GB)</td>\n",
       "      <td>₹29,990</td>\n",
       "      <td>OnePlus Nord 2 5G (Gray Sierra, 128 GB)</td>\n",
       "      <td>OnePlus Nord 2 5G (Gray Sierra, 128 GB)</td>\n",
       "    </tr>\n",
       "    <tr>\n",
       "      <th>14</th>\n",
       "      <td>OnePlus Nord N20 SE (Blue Oasis, 64 GB)</td>\n",
       "      <td>₹14,990</td>\n",
       "      <td>OnePlus Nord N20 SE (Blue Oasis, 64 GB)</td>\n",
       "      <td>OnePlus Nord N20 SE (Blue Oasis, 64 GB)</td>\n",
       "    </tr>\n",
       "    <tr>\n",
       "      <th>15</th>\n",
       "      <td>OnePlus Nord N20 SE (Celestial Black, 64 GB)</td>\n",
       "      <td>₹14,749</td>\n",
       "      <td>OnePlus Nord N20 SE (Celestial Black, 64 GB)</td>\n",
       "      <td>OnePlus Nord N20 SE (Celestial Black, 64 GB)</td>\n",
       "    </tr>\n",
       "    <tr>\n",
       "      <th>16</th>\n",
       "      <td>OnePlus Nord (Gray Onyx, 256 GB)</td>\n",
       "      <td>₹29,999</td>\n",
       "      <td>OnePlus Nord (Gray Onyx, 256 GB)</td>\n",
       "      <td>OnePlus Nord (Gray Onyx, 256 GB)</td>\n",
       "    </tr>\n",
       "    <tr>\n",
       "      <th>17</th>\n",
       "      <td>OnePlus Nord (Gray Onyx, 64 GB)</td>\n",
       "      <td>₹24,999</td>\n",
       "      <td>OnePlus Nord (Gray Onyx, 64 GB)</td>\n",
       "      <td>OnePlus Nord (Gray Onyx, 64 GB)</td>\n",
       "    </tr>\n",
       "    <tr>\n",
       "      <th>18</th>\n",
       "      <td>OnePlus Nord (Blue Marble, 256 GB)</td>\n",
       "      <td>₹29,999</td>\n",
       "      <td>OnePlus Nord (Blue Marble, 256 GB)</td>\n",
       "      <td>OnePlus Nord (Blue Marble, 256 GB)</td>\n",
       "    </tr>\n",
       "    <tr>\n",
       "      <th>19</th>\n",
       "      <td>OnePlus Nord (Gray Onyx, 128 GB)</td>\n",
       "      <td>₹27,999</td>\n",
       "      <td>OnePlus Nord (Gray Onyx, 128 GB)</td>\n",
       "      <td>OnePlus Nord (Gray Onyx, 128 GB)</td>\n",
       "    </tr>\n",
       "    <tr>\n",
       "      <th>20</th>\n",
       "      <td>OnePlus Nord (Blue Marble, 128 GB)</td>\n",
       "      <td>₹27,999</td>\n",
       "      <td>OnePlus Nord (Blue Marble, 128 GB)</td>\n",
       "      <td>OnePlus Nord (Blue Marble, 128 GB)</td>\n",
       "    </tr>\n",
       "    <tr>\n",
       "      <th>21</th>\n",
       "      <td>OnePlus Nord (Blue Marble, 64 GB)</td>\n",
       "      <td>₹24,999</td>\n",
       "      <td>OnePlus Nord (Blue Marble, 64 GB)</td>\n",
       "      <td>OnePlus Nord (Blue Marble, 64 GB)</td>\n",
       "    </tr>\n",
       "    <tr>\n",
       "      <th>22</th>\n",
       "      <td>OnePlus Nord CE 2 Lite 5G (Black Dusk, 128 GB)</td>\n",
       "      <td>₹19,100</td>\n",
       "      <td>OnePlus Nord CE 2 Lite 5G (Black Dusk, 128 GB)</td>\n",
       "      <td>OnePlus Nord CE 2 Lite 5G (Black Dusk, 128 GB)</td>\n",
       "    </tr>\n",
       "    <tr>\n",
       "      <th>23</th>\n",
       "      <td>OnePlus Nord CE 2 Lite 5G (Blue Tide, 128 GB)</td>\n",
       "      <td>₹19,849</td>\n",
       "      <td>OnePlus Nord CE 2 Lite 5G (Blue Tide, 128 GB)</td>\n",
       "      <td>OnePlus Nord CE 2 Lite 5G (Blue Tide, 128 GB)</td>\n",
       "    </tr>\n",
       "  </tbody>\n",
       "</table>\n",
       "</div>"
      ],
      "text/plain": [
       "                                        Brand Name    Price  \\\n",
       "0    OnePlus Nord CE 2 Lite 5G (Blue Tide, 128 GB)  ₹19,792   \n",
       "1    OnePlus Nord CE 2 Lite 5G (Blue Tide, 128 GB)  ₹19,549   \n",
       "2   OnePlus Nord CE 2 Lite 5G (Black Dusk, 128 GB)  ₹19,999   \n",
       "3            OnePlus Nord 2T 5G (Jade Fog, 128 GB)  ₹28,849   \n",
       "4         OnePlus Nord 2T 5G (Gray Shadow, 128 GB)  ₹28,999   \n",
       "5          OnePlus Nord N20 SE (Blue Oasis, 64 MB)  ₹14,499   \n",
       "6       OnePlus Nord CE 2 5G (Gray Mirror, 128 GB)  ₹24,999   \n",
       "7    OnePlus Nord CE 2 Lite 5G (Blue Tide, 128 GB)  ₹19,706   \n",
       "8         OnePlus Nord 2T 5G (Gray Shadow, 256 GB)  ₹33,900   \n",
       "9         OnePlus Nord 2T 5G (Gray Shadow, 256 GB)  ₹33,860   \n",
       "10           OnePlus Nord 2T 5G (Jade Fog, 128 GB)  ₹28,999   \n",
       "11           OnePlus Nord 2T 5G (Jade Fog, 256 GB)  ₹33,999   \n",
       "12        OnePlus Nord 2T 5G (Gray Shadow, 256 GB)  ₹33,999   \n",
       "13         OnePlus Nord 2 5G (Gray Sierra, 128 GB)  ₹29,990   \n",
       "14         OnePlus Nord N20 SE (Blue Oasis, 64 GB)  ₹14,990   \n",
       "15    OnePlus Nord N20 SE (Celestial Black, 64 GB)  ₹14,749   \n",
       "16                OnePlus Nord (Gray Onyx, 256 GB)  ₹29,999   \n",
       "17                 OnePlus Nord (Gray Onyx, 64 GB)  ₹24,999   \n",
       "18              OnePlus Nord (Blue Marble, 256 GB)  ₹29,999   \n",
       "19                OnePlus Nord (Gray Onyx, 128 GB)  ₹27,999   \n",
       "20              OnePlus Nord (Blue Marble, 128 GB)  ₹27,999   \n",
       "21               OnePlus Nord (Blue Marble, 64 GB)  ₹24,999   \n",
       "22  OnePlus Nord CE 2 Lite 5G (Black Dusk, 128 GB)  ₹19,100   \n",
       "23   OnePlus Nord CE 2 Lite 5G (Blue Tide, 128 GB)  ₹19,849   \n",
       "\n",
       "                                       Description  \\\n",
       "0    OnePlus Nord CE 2 Lite 5G (Blue Tide, 128 GB)   \n",
       "1    OnePlus Nord CE 2 Lite 5G (Blue Tide, 128 GB)   \n",
       "2   OnePlus Nord CE 2 Lite 5G (Black Dusk, 128 GB)   \n",
       "3            OnePlus Nord 2T 5G (Jade Fog, 128 GB)   \n",
       "4         OnePlus Nord 2T 5G (Gray Shadow, 128 GB)   \n",
       "5          OnePlus Nord N20 SE (Blue Oasis, 64 MB)   \n",
       "6       OnePlus Nord CE 2 5G (Gray Mirror, 128 GB)   \n",
       "7    OnePlus Nord CE 2 Lite 5G (Blue Tide, 128 GB)   \n",
       "8         OnePlus Nord 2T 5G (Gray Shadow, 256 GB)   \n",
       "9         OnePlus Nord 2T 5G (Gray Shadow, 256 GB)   \n",
       "10           OnePlus Nord 2T 5G (Jade Fog, 128 GB)   \n",
       "11           OnePlus Nord 2T 5G (Jade Fog, 256 GB)   \n",
       "12        OnePlus Nord 2T 5G (Gray Shadow, 256 GB)   \n",
       "13         OnePlus Nord 2 5G (Gray Sierra, 128 GB)   \n",
       "14         OnePlus Nord N20 SE (Blue Oasis, 64 GB)   \n",
       "15    OnePlus Nord N20 SE (Celestial Black, 64 GB)   \n",
       "16                OnePlus Nord (Gray Onyx, 256 GB)   \n",
       "17                 OnePlus Nord (Gray Onyx, 64 GB)   \n",
       "18              OnePlus Nord (Blue Marble, 256 GB)   \n",
       "19                OnePlus Nord (Gray Onyx, 128 GB)   \n",
       "20              OnePlus Nord (Blue Marble, 128 GB)   \n",
       "21               OnePlus Nord (Blue Marble, 64 GB)   \n",
       "22  OnePlus Nord CE 2 Lite 5G (Black Dusk, 128 GB)   \n",
       "23   OnePlus Nord CE 2 Lite 5G (Blue Tide, 128 GB)   \n",
       "\n",
       "                                             Color  \n",
       "0    OnePlus Nord CE 2 Lite 5G (Blue Tide, 128 GB)  \n",
       "1    OnePlus Nord CE 2 Lite 5G (Blue Tide, 128 GB)  \n",
       "2   OnePlus Nord CE 2 Lite 5G (Black Dusk, 128 GB)  \n",
       "3            OnePlus Nord 2T 5G (Jade Fog, 128 GB)  \n",
       "4         OnePlus Nord 2T 5G (Gray Shadow, 128 GB)  \n",
       "5          OnePlus Nord N20 SE (Blue Oasis, 64 MB)  \n",
       "6       OnePlus Nord CE 2 5G (Gray Mirror, 128 GB)  \n",
       "7    OnePlus Nord CE 2 Lite 5G (Blue Tide, 128 GB)  \n",
       "8         OnePlus Nord 2T 5G (Gray Shadow, 256 GB)  \n",
       "9         OnePlus Nord 2T 5G (Gray Shadow, 256 GB)  \n",
       "10           OnePlus Nord 2T 5G (Jade Fog, 128 GB)  \n",
       "11           OnePlus Nord 2T 5G (Jade Fog, 256 GB)  \n",
       "12        OnePlus Nord 2T 5G (Gray Shadow, 256 GB)  \n",
       "13         OnePlus Nord 2 5G (Gray Sierra, 128 GB)  \n",
       "14         OnePlus Nord N20 SE (Blue Oasis, 64 GB)  \n",
       "15    OnePlus Nord N20 SE (Celestial Black, 64 GB)  \n",
       "16                OnePlus Nord (Gray Onyx, 256 GB)  \n",
       "17                 OnePlus Nord (Gray Onyx, 64 GB)  \n",
       "18              OnePlus Nord (Blue Marble, 256 GB)  \n",
       "19                OnePlus Nord (Gray Onyx, 128 GB)  \n",
       "20              OnePlus Nord (Blue Marble, 128 GB)  \n",
       "21               OnePlus Nord (Blue Marble, 64 GB)  \n",
       "22  OnePlus Nord CE 2 Lite 5G (Black Dusk, 128 GB)  \n",
       "23   OnePlus Nord CE 2 Lite 5G (Blue Tide, 128 GB)  "
      ]
     },
     "execution_count": 163,
     "metadata": {},
     "output_type": "execute_result"
    }
   ],
   "source": [
    "mob_det=pd.DataFrame({})\n",
    "mob_det['Brand Name']=[B_name]\n",
    "mob_det['Price']=Price\n",
    "mob_det['Description']=P_desc\n",
    "mob_det['Color']=Color\n",
    "mob_det"
   ]
  },
  {
   "cell_type": "code",
   "execution_count": 187,
   "id": "69756cd4",
   "metadata": {},
   "outputs": [
    {
     "ename": "AttributeError",
     "evalue": "'int' object has no attribute 'find'",
     "output_type": "error",
     "traceback": [
      "\u001b[1;31m---------------------------------------------------------------------------\u001b[0m",
      "\u001b[1;31mAttributeError\u001b[0m                            Traceback (most recent call last)",
      "Input \u001b[1;32mIn [187]\u001b[0m, in \u001b[0;36m<cell line: 1>\u001b[1;34m()\u001b[0m\n\u001b[0;32m      4\u001b[0m     pres_term \u001b[38;5;241m=\u001b[39m []\n\u001b[0;32m      5\u001b[0m     pres_term\u001b[38;5;241m=\u001b[39mdriver\u001b[38;5;241m.\u001b[39mfind_elements(By\u001b[38;5;241m.\u001b[39mXPATH,\u001b[38;5;124m\"\u001b[39m\u001b[38;5;124m//div[@class=\u001b[39m\u001b[38;5;124m'\u001b[39m\u001b[38;5;124m_4rR01T\u001b[39m\u001b[38;5;124m'\u001b[39m\u001b[38;5;124m]\u001b[39m\u001b[38;5;124m\"\u001b[39m)\n\u001b[1;32m----> 6\u001b[0m     pres_term\u001b[38;5;241m.\u001b[39mappend(\u001b[43mi\u001b[49m\u001b[38;5;241;43m.\u001b[39;49m\u001b[43mfind\u001b[49m(\u001b[38;5;124m'\u001b[39m\u001b[38;5;124m \u001b[39m\u001b[38;5;124m'\u001b[39m)\u001b[38;5;241m.\u001b[39mtext\u001b[38;5;241m.\u001b[39msplit(\u001b[38;5;124m\"\u001b[39m\u001b[38;5;124m:\u001b[39m\u001b[38;5;124m\"\u001b[39m)[\u001b[38;5;241m0\u001b[39m])\n\u001b[0;32m      7\u001b[0m pres_term\n",
      "\u001b[1;31mAttributeError\u001b[0m: 'int' object has no attribute 'find'"
     ]
    }
   ],
   "source": [
    "for i in range(1):\n",
    "    b_name=driver.find_elements(By.XPATH,\"//div[@class='_4rR01T']\")\n",
    "    \n",
    "    for j  in b_name:\n",
    "        B_name.append(i.find(\" \").text.split(\" \")[0])\n",
    "    B_name\n"
   ]
  },
  {
   "cell_type": "markdown",
   "id": "13c157a7",
   "metadata": {},
   "source": [
    "# Q5 to scrap latitude"
   ]
  },
  {
   "cell_type": "code",
   "execution_count": 89,
   "id": "3b86eb5f",
   "metadata": {},
   "outputs": [],
   "source": [
    "driver = webdriver.Chrome(r'C:\\Users\\mohsi\\Downloads\\chromedriver_win32\\chromedriver.exe')"
   ]
  },
  {
   "cell_type": "code",
   "execution_count": 90,
   "id": "28eccfb8",
   "metadata": {},
   "outputs": [],
   "source": [
    "driver.maximize_window()"
   ]
  },
  {
   "cell_type": "code",
   "execution_count": 91,
   "id": "33231985",
   "metadata": {},
   "outputs": [],
   "source": [
    "url = 'https://www.google.ae/maps?hl=en&tab=rl&authuser=0'\n",
    "driver.get(url)"
   ]
  },
  {
   "cell_type": "code",
   "execution_count": 94,
   "id": "c5c53723",
   "metadata": {},
   "outputs": [],
   "source": [
    "# finding web element and send text to in search bar\n",
    "search_job = driver.find_element(By.XPATH,\"/html/body/div[3]/div[9]/div[3]/div[1]/div[1]/div/div[2]/form/input[1]\")\n",
    "search_job.send_keys(\"Delhi\")"
   ]
  },
  {
   "cell_type": "code",
   "execution_count": 95,
   "id": "b3f04fe5",
   "metadata": {},
   "outputs": [],
   "source": [
    "# click on button\n",
    "search_btn=driver.find_element(By.XPATH,\"//button[@class='mL3xi']\")\n",
    "search_btn.click()"
   ]
  },
  {
   "cell_type": "code",
   "execution_count": 100,
   "id": "e553b751",
   "metadata": {},
   "outputs": [],
   "source": [
    "# need to add library\n",
    "import re"
   ]
  },
  {
   "cell_type": "code",
   "execution_count": 104,
   "id": "ffcf9fdc",
   "metadata": {},
   "outputs": [
    {
     "name": "stdout",
     "output_type": "stream",
     "text": [
      "URL Extracted:  https://www.google.ae/maps/place/Delhi,+India/@28.6437953,76.8130249,10z/data=!3m1!4b1!4m5!3m4!1s0x390cfd5b347eb62d:0x37205b715389640!8m2!3d28.7040592!4d77.1024902?hl=en&authuser=0\n",
      "Latitude = 28.6437953, longitude = 76.8130249\n"
     ]
    }
   ],
   "source": [
    "try:\n",
    "    url_string = driver.current_url      \n",
    "    print(\"URL Extracted: \", url_string)   # to get the url\n",
    "    \n",
    "    lat_lng = re.findall(r'@(.*)data', url_string)\n",
    "    if len(lat_lng):\n",
    "        lat_lng_list = lat_lng[0].split(\",\")\n",
    "        if len(lat_lng_list)>=2:\n",
    "            lat = lat_lng_list[0]\n",
    "            lng = lat_lng_list[1]\n",
    "            print(\"Latitude = {}, longitude = {}\".format(lat, lng))\n",
    "            \n",
    "except Exception as e:\n",
    "        print(\"error\", str(e))"
   ]
  },
  {
   "cell_type": "markdown",
   "id": "e9a1933f",
   "metadata": {},
   "source": [
    "# Q6 to scrap funding deals of second quarter"
   ]
  },
  {
   "cell_type": "code",
   "execution_count": 115,
   "id": "b4e7203e",
   "metadata": {},
   "outputs": [],
   "source": [
    "driver = webdriver.Chrome(r'C:\\Users\\mohsi\\Downloads\\chromedriver_win32\\chromedriver.exe')"
   ]
  },
  {
   "cell_type": "code",
   "execution_count": 116,
   "id": "e733f74b",
   "metadata": {},
   "outputs": [],
   "source": [
    "driver.maximize_window()"
   ]
  },
  {
   "cell_type": "code",
   "execution_count": 117,
   "id": "5989f897",
   "metadata": {},
   "outputs": [],
   "source": [
    "url = 'https://trak.in/'\n",
    "driver.get(url)"
   ]
  },
  {
   "cell_type": "code",
   "execution_count": null,
   "id": "30e1b80d",
   "metadata": {},
   "outputs": [],
   "source": [
    "# close the popup\n",
    "close_btn = driver.find_element(By.XPATH,'/html/body/div[2]/div/div/button')\n",
    "close_btn.click()"
   ]
  },
  {
   "cell_type": "code",
   "execution_count": 118,
   "id": "8e96d12d",
   "metadata": {},
   "outputs": [],
   "source": [
    "# click on button\n",
    "search_btn=driver.find_element(By.XPATH,\"//i[@class='bf-icon  fa fa-dollar']\")\n",
    "search_btn.click()"
   ]
  },
  {
   "cell_type": "code",
   "execution_count": 119,
   "id": "f8de3361",
   "metadata": {},
   "outputs": [],
   "source": [
    "# to close popup\n",
    "#close_btn=driver.find_element(By.XPATH,\"/html/body/div[1]/div[2]/div[2]/div/div/div[2]/div/div/div[3]\")\n",
    "#close_btn.click()\n"
   ]
  },
  {
   "cell_type": "markdown",
   "id": "a4557b0a",
   "metadata": {},
   "source": [
    "# Q7 best gaming laptop"
   ]
  },
  {
   "cell_type": "code",
   "execution_count": 153,
   "id": "29f22f6b",
   "metadata": {},
   "outputs": [],
   "source": [
    "driver = webdriver.Chrome(r'C:\\Users\\mohsi\\Downloads\\chromedriver_win32\\chromedriver.exe')"
   ]
  },
  {
   "cell_type": "code",
   "execution_count": 154,
   "id": "c6d73b3d",
   "metadata": {},
   "outputs": [],
   "source": [
    "driver.maximize_window()"
   ]
  },
  {
   "cell_type": "code",
   "execution_count": 155,
   "id": "96389e17",
   "metadata": {},
   "outputs": [],
   "source": [
    "url = 'https://digit.in/'\n",
    "driver.get(url)"
   ]
  },
  {
   "cell_type": "code",
   "execution_count": 156,
   "id": "95423880",
   "metadata": {},
   "outputs": [],
   "source": [
    "# click on tab\n",
    "search_btn=driver.find_element(By.XPATH,\"/html/body/div[1]/div/div[4]/ul/li[4]\")\n",
    "search_btn.click()"
   ]
  },
  {
   "cell_type": "code",
   "execution_count": 157,
   "id": "5fa7d68e",
   "metadata": {},
   "outputs": [],
   "source": [
    "#click on tab\n",
    "click_btn=driver.find_element(By.XPATH,\"/html/body/div[3]/div/div/div[2]/div[5]/div[1]/div/button[2]\")\n",
    "click_btn.click()"
   ]
  },
  {
   "cell_type": "code",
   "execution_count": 158,
   "id": "31831f24",
   "metadata": {},
   "outputs": [],
   "source": [
    "#click on tab\n",
    "click_btn=driver.find_element(By.XPATH,\"/html/body/div[3]/div/div/div[2]/div[5]/div[3]/div[3]\")\n",
    "click_btn.click()\n"
   ]
  },
  {
   "cell_type": "code",
   "execution_count": 159,
   "id": "82175801",
   "metadata": {},
   "outputs": [],
   "source": [
    "B_name=[]\n",
    "Price=[]\n",
    "P_proc=[]\n",
    "P_disp=[]\n",
    "P_os=[]\n",
    "P_memo=[]"
   ]
  },
  {
   "cell_type": "code",
   "execution_count": 164,
   "id": "b9501a8e",
   "metadata": {},
   "outputs": [
    {
     "ename": "AttributeError",
     "evalue": "'NoneType' object has no attribute 'format'",
     "output_type": "error",
     "traceback": [
      "\u001b[1;31m---------------------------------------------------------------------------\u001b[0m",
      "\u001b[1;31mAttributeError\u001b[0m                            Traceback (most recent call last)",
      "Input \u001b[1;32mIn [164]\u001b[0m, in \u001b[0;36m<cell line: 16>\u001b[1;34m()\u001b[0m\n\u001b[0;32m     11\u001b[0m \u001b[38;5;66;03m#d_grap=driver.find_elements(By.XPATH,\"/html/body/div[5]/div[1]/div[3]/div[2]/div[2]/div[3]/div[3]/table/tbody/tr[3]/td[3]\")\u001b[39;00m\n\u001b[0;32m     12\u001b[0m \u001b[38;5;66;03m#d_body=driver.find_elements(By.XPATH,\"/html/body/div[5]/div[1]/div[3]/div[2]/div[2]/div[3]/div[3]/table/tbody/tr[3]/td[3]\")\u001b[39;00m\n\u001b[0;32m     13\u001b[0m \n\u001b[0;32m     14\u001b[0m \u001b[38;5;66;03m#discount=driver.find_elements(By.XPATH,\"//div[@class='_3Ay6Sb']\")\u001b[39;00m\n\u001b[0;32m     16\u001b[0m \u001b[38;5;28;01mfor\u001b[39;00m j \u001b[38;5;129;01min\u001b[39;00m b_name:\n\u001b[1;32m---> 17\u001b[0m     \u001b[43mB_name\u001b[49m\u001b[38;5;241;43m.\u001b[39;49m\u001b[43mappend\u001b[49m\u001b[43m(\u001b[49m\u001b[43mj\u001b[49m\u001b[38;5;241;43m.\u001b[39;49m\u001b[43mtext\u001b[49m\u001b[43m)\u001b[49m\u001b[38;5;241;43m.\u001b[39;49m\u001b[43mformat\u001b[49m(j, \u001b[38;5;241m10\u001b[39m)\n\u001b[0;32m     18\u001b[0m B_name\n\u001b[0;32m     22\u001b[0m \u001b[38;5;28;01mfor\u001b[39;00m l \u001b[38;5;129;01min\u001b[39;00m d_price:\n",
      "\u001b[1;31mAttributeError\u001b[0m: 'NoneType' object has no attribute 'format'"
     ]
    }
   ],
   "source": [
    "\n",
    "    b_name=driver.find_elements(By.XPATH,\"/html/body/div[5]/div[1]/div[3]/div[2]/div[1]/div[1]/div[1]/a\")\n",
    "    d_price=driver.find_elements(By.XPATH,\"/html/body/div[5]/div[1]/div[3]/div[2]/div[2]/div[3]/div[3]/table/tbody/tr[9]/td[3]\")\n",
    "    \n",
    "    d_proc=driver.find_elements(By.XPATH,\"/html/body/div[5]/div[1]/div[3]/div[2]/div[2]/div[3]/div[3]/table/tbody/tr[4]/td[3]\")\n",
    "    d_disp=driver.find_elements(By.XPATH,\"/html/body/div[5]/div[1]/div[3]/div[2]/div[2]/div[3]/div[3]/table/tbody/tr[3]/td[3]\")\n",
    "    \n",
    "    \n",
    "    d_os=driver.find_elements(By.XPATH,\"/html/body/div[5]/div[1]/div[3]/div[2]/div[2]/div[3]/div[3]/table/tbody/tr[5]/td[3]\")\n",
    "    d_memo=driver.find_elements(By.XPATH,\"/html/body/div[5]/div[1]/div[3]/div[2]/div[2]/div[3]/div[3]/table/tbody/tr[6]/td[3]\")\n",
    "    \n",
    "    #d_grap=driver.find_elements(By.XPATH,\"/html/body/div[5]/div[1]/div[3]/div[2]/div[2]/div[3]/div[3]/table/tbody/tr[3]/td[3]\")\n",
    "    #d_body=driver.find_elements(By.XPATH,\"/html/body/div[5]/div[1]/div[3]/div[2]/div[2]/div[3]/div[3]/table/tbody/tr[3]/td[3]\")\n",
    "    \n",
    "    #discount=driver.find_elements(By.XPATH,\"//div[@class='_3Ay6Sb']\")\n",
    "    \n",
    "    for j in b_name:\n",
    "        B_name.append(j.text).format(j, 10)\n",
    "    B_name\n",
    "    \n",
    "    \n",
    "    \n",
    "    for l in d_price:\n",
    "        Price.append(l.text).format(l, 10)\n",
    "    Price\n",
    "     \n",
    "    \n",
    "    for k in d_proc:\n",
    "        P_proc.append(k.text).format(k, 10)\n",
    "    P_proc\n",
    "     \n",
    "    \n",
    "    for m in d_disp:\n",
    "        P_desc.append(m.text).format(m, 10)\n",
    "    P_disp\n",
    "     \n",
    "    \n",
    "    for n in d_os:\n",
    "        P_desc.append(n.text).format(n, 10)\n",
    "    P_os\n",
    "    \n",
    "    \n",
    "    for o in d_memo:\n",
    "        P_desc.append(o.text).format(o, 10)\n",
    "    P_memo\n",
    "     "
   ]
  },
  {
   "cell_type": "code",
   "execution_count": 148,
   "id": "919ffaa9",
   "metadata": {},
   "outputs": [
    {
     "ename": "ValueError",
     "evalue": "Length of values (1) does not match length of index (2)",
     "output_type": "error",
     "traceback": [
      "\u001b[1;31m---------------------------------------------------------------------------\u001b[0m",
      "\u001b[1;31mValueError\u001b[0m                                Traceback (most recent call last)",
      "Input \u001b[1;32mIn [148]\u001b[0m, in \u001b[0;36m<cell line: 4>\u001b[1;34m()\u001b[0m\n\u001b[0;32m      2\u001b[0m sun_gl[\u001b[38;5;124m'\u001b[39m\u001b[38;5;124mBrand Name\u001b[39m\u001b[38;5;124m'\u001b[39m]\u001b[38;5;241m=\u001b[39mB_name\n\u001b[0;32m      3\u001b[0m sun_gl[\u001b[38;5;124m'\u001b[39m\u001b[38;5;124mPrice\u001b[39m\u001b[38;5;124m'\u001b[39m]\u001b[38;5;241m=\u001b[39mPrice\n\u001b[1;32m----> 4\u001b[0m sun_gl[\u001b[38;5;124m'\u001b[39m\u001b[38;5;124mDescription\u001b[39m\u001b[38;5;124m'\u001b[39m]\u001b[38;5;241m=\u001b[39mP_proc\n\u001b[0;32m      5\u001b[0m sun_gl[\u001b[38;5;124m'\u001b[39m\u001b[38;5;124mDisplay\u001b[39m\u001b[38;5;124m'\u001b[39m]\u001b[38;5;241m=\u001b[39mP_disp\n\u001b[0;32m      6\u001b[0m sun_gl[\u001b[38;5;124m'\u001b[39m\u001b[38;5;124mOS\u001b[39m\u001b[38;5;124m'\u001b[39m]\u001b[38;5;241m=\u001b[39mP_os\n",
      "File \u001b[1;32m~\\anaconda3\\lib\\site-packages\\pandas\\core\\frame.py:3655\u001b[0m, in \u001b[0;36mDataFrame.__setitem__\u001b[1;34m(self, key, value)\u001b[0m\n\u001b[0;32m   3652\u001b[0m     \u001b[38;5;28mself\u001b[39m\u001b[38;5;241m.\u001b[39m_setitem_array([key], value)\n\u001b[0;32m   3653\u001b[0m \u001b[38;5;28;01melse\u001b[39;00m:\n\u001b[0;32m   3654\u001b[0m     \u001b[38;5;66;03m# set column\u001b[39;00m\n\u001b[1;32m-> 3655\u001b[0m     \u001b[38;5;28;43mself\u001b[39;49m\u001b[38;5;241;43m.\u001b[39;49m\u001b[43m_set_item\u001b[49m\u001b[43m(\u001b[49m\u001b[43mkey\u001b[49m\u001b[43m,\u001b[49m\u001b[43m \u001b[49m\u001b[43mvalue\u001b[49m\u001b[43m)\u001b[49m\n",
      "File \u001b[1;32m~\\anaconda3\\lib\\site-packages\\pandas\\core\\frame.py:3832\u001b[0m, in \u001b[0;36mDataFrame._set_item\u001b[1;34m(self, key, value)\u001b[0m\n\u001b[0;32m   3822\u001b[0m \u001b[38;5;28;01mdef\u001b[39;00m \u001b[38;5;21m_set_item\u001b[39m(\u001b[38;5;28mself\u001b[39m, key, value) \u001b[38;5;241m-\u001b[39m\u001b[38;5;241m>\u001b[39m \u001b[38;5;28;01mNone\u001b[39;00m:\n\u001b[0;32m   3823\u001b[0m     \u001b[38;5;124;03m\"\"\"\u001b[39;00m\n\u001b[0;32m   3824\u001b[0m \u001b[38;5;124;03m    Add series to DataFrame in specified column.\u001b[39;00m\n\u001b[0;32m   3825\u001b[0m \n\u001b[1;32m   (...)\u001b[0m\n\u001b[0;32m   3830\u001b[0m \u001b[38;5;124;03m    ensure homogeneity.\u001b[39;00m\n\u001b[0;32m   3831\u001b[0m \u001b[38;5;124;03m    \"\"\"\u001b[39;00m\n\u001b[1;32m-> 3832\u001b[0m     value \u001b[38;5;241m=\u001b[39m \u001b[38;5;28;43mself\u001b[39;49m\u001b[38;5;241;43m.\u001b[39;49m\u001b[43m_sanitize_column\u001b[49m\u001b[43m(\u001b[49m\u001b[43mvalue\u001b[49m\u001b[43m)\u001b[49m\n\u001b[0;32m   3834\u001b[0m     \u001b[38;5;28;01mif\u001b[39;00m (\n\u001b[0;32m   3835\u001b[0m         key \u001b[38;5;129;01min\u001b[39;00m \u001b[38;5;28mself\u001b[39m\u001b[38;5;241m.\u001b[39mcolumns\n\u001b[0;32m   3836\u001b[0m         \u001b[38;5;129;01mand\u001b[39;00m value\u001b[38;5;241m.\u001b[39mndim \u001b[38;5;241m==\u001b[39m \u001b[38;5;241m1\u001b[39m\n\u001b[0;32m   3837\u001b[0m         \u001b[38;5;129;01mand\u001b[39;00m \u001b[38;5;129;01mnot\u001b[39;00m is_extension_array_dtype(value)\n\u001b[0;32m   3838\u001b[0m     ):\n\u001b[0;32m   3839\u001b[0m         \u001b[38;5;66;03m# broadcast across multiple columns if necessary\u001b[39;00m\n\u001b[0;32m   3840\u001b[0m         \u001b[38;5;28;01mif\u001b[39;00m \u001b[38;5;129;01mnot\u001b[39;00m \u001b[38;5;28mself\u001b[39m\u001b[38;5;241m.\u001b[39mcolumns\u001b[38;5;241m.\u001b[39mis_unique \u001b[38;5;129;01mor\u001b[39;00m \u001b[38;5;28misinstance\u001b[39m(\u001b[38;5;28mself\u001b[39m\u001b[38;5;241m.\u001b[39mcolumns, MultiIndex):\n",
      "File \u001b[1;32m~\\anaconda3\\lib\\site-packages\\pandas\\core\\frame.py:4535\u001b[0m, in \u001b[0;36mDataFrame._sanitize_column\u001b[1;34m(self, value)\u001b[0m\n\u001b[0;32m   4532\u001b[0m     \u001b[38;5;28;01mreturn\u001b[39;00m _reindex_for_setitem(value, \u001b[38;5;28mself\u001b[39m\u001b[38;5;241m.\u001b[39mindex)\n\u001b[0;32m   4534\u001b[0m \u001b[38;5;28;01mif\u001b[39;00m is_list_like(value):\n\u001b[1;32m-> 4535\u001b[0m     \u001b[43mcom\u001b[49m\u001b[38;5;241;43m.\u001b[39;49m\u001b[43mrequire_length_match\u001b[49m\u001b[43m(\u001b[49m\u001b[43mvalue\u001b[49m\u001b[43m,\u001b[49m\u001b[43m \u001b[49m\u001b[38;5;28;43mself\u001b[39;49m\u001b[38;5;241;43m.\u001b[39;49m\u001b[43mindex\u001b[49m\u001b[43m)\u001b[49m\n\u001b[0;32m   4536\u001b[0m \u001b[38;5;28;01mreturn\u001b[39;00m sanitize_array(value, \u001b[38;5;28mself\u001b[39m\u001b[38;5;241m.\u001b[39mindex, copy\u001b[38;5;241m=\u001b[39m\u001b[38;5;28;01mTrue\u001b[39;00m, allow_2d\u001b[38;5;241m=\u001b[39m\u001b[38;5;28;01mTrue\u001b[39;00m)\n",
      "File \u001b[1;32m~\\anaconda3\\lib\\site-packages\\pandas\\core\\common.py:557\u001b[0m, in \u001b[0;36mrequire_length_match\u001b[1;34m(data, index)\u001b[0m\n\u001b[0;32m    553\u001b[0m \u001b[38;5;124;03m\"\"\"\u001b[39;00m\n\u001b[0;32m    554\u001b[0m \u001b[38;5;124;03mCheck the length of data matches the length of the index.\u001b[39;00m\n\u001b[0;32m    555\u001b[0m \u001b[38;5;124;03m\"\"\"\u001b[39;00m\n\u001b[0;32m    556\u001b[0m \u001b[38;5;28;01mif\u001b[39;00m \u001b[38;5;28mlen\u001b[39m(data) \u001b[38;5;241m!=\u001b[39m \u001b[38;5;28mlen\u001b[39m(index):\n\u001b[1;32m--> 557\u001b[0m     \u001b[38;5;28;01mraise\u001b[39;00m \u001b[38;5;167;01mValueError\u001b[39;00m(\n\u001b[0;32m    558\u001b[0m         \u001b[38;5;124m\"\u001b[39m\u001b[38;5;124mLength of values \u001b[39m\u001b[38;5;124m\"\u001b[39m\n\u001b[0;32m    559\u001b[0m         \u001b[38;5;124mf\u001b[39m\u001b[38;5;124m\"\u001b[39m\u001b[38;5;124m(\u001b[39m\u001b[38;5;132;01m{\u001b[39;00m\u001b[38;5;28mlen\u001b[39m(data)\u001b[38;5;132;01m}\u001b[39;00m\u001b[38;5;124m) \u001b[39m\u001b[38;5;124m\"\u001b[39m\n\u001b[0;32m    560\u001b[0m         \u001b[38;5;124m\"\u001b[39m\u001b[38;5;124mdoes not match length of index \u001b[39m\u001b[38;5;124m\"\u001b[39m\n\u001b[0;32m    561\u001b[0m         \u001b[38;5;124mf\u001b[39m\u001b[38;5;124m\"\u001b[39m\u001b[38;5;124m(\u001b[39m\u001b[38;5;132;01m{\u001b[39;00m\u001b[38;5;28mlen\u001b[39m(index)\u001b[38;5;132;01m}\u001b[39;00m\u001b[38;5;124m)\u001b[39m\u001b[38;5;124m\"\u001b[39m\n\u001b[0;32m    562\u001b[0m     )\n",
      "\u001b[1;31mValueError\u001b[0m: Length of values (1) does not match length of index (2)"
     ]
    }
   ],
   "source": [
    "sun_gl=pd.DataFrame({})\n",
    "sun_gl['Brand Name']=B_name\n",
    "sun_gl['Price']=Price\n",
    "sun_gl['Description']=P_proc\n",
    "sun_gl['Display']=P_disp\n",
    "sun_gl['OS']=P_os\n",
    "sun_gl['Mempry']=P_memo\n",
    "sun_gl"
   ]
  },
  {
   "cell_type": "markdown",
   "id": "877b6279",
   "metadata": {},
   "source": [
    "# Q8 extract billionair details"
   ]
  },
  {
   "cell_type": "code",
   "execution_count": 165,
   "id": "3db391a9",
   "metadata": {},
   "outputs": [],
   "source": [
    "driver = webdriver.Chrome(r'C:\\Users\\mohsi\\Downloads\\chromedriver_win32\\chromedriver.exe')"
   ]
  },
  {
   "cell_type": "code",
   "execution_count": 166,
   "id": "0e541532",
   "metadata": {},
   "outputs": [],
   "source": [
    "driver.maximize_window()"
   ]
  },
  {
   "cell_type": "code",
   "execution_count": 178,
   "id": "2f04ffd7",
   "metadata": {},
   "outputs": [],
   "source": [
    "url = 'https://forbes.com/'\n",
    "driver.get(url)"
   ]
  },
  {
   "cell_type": "code",
   "execution_count": 179,
   "id": "79b11172",
   "metadata": {},
   "outputs": [],
   "source": [
    "# click on menu\n",
    "click_btn=driver.find_element(By.XPATH,\"/html/body/div[1]/header/nav/div[1]/div/div/div[1]\")\n",
    "click_btn.click()"
   ]
  },
  {
   "cell_type": "code",
   "execution_count": 182,
   "id": "674e643d",
   "metadata": {},
   "outputs": [],
   "source": [
    "# click on billionair\n",
    "click_btn=driver.find_element(By.XPATH,\"/html/body/div[1]/header/nav/div[1]/div/div/div[2]/ul/li[1]/div[1]\")\n",
    "click_btn.click()"
   ]
  },
  {
   "cell_type": "code",
   "execution_count": 183,
   "id": "aac31e30",
   "metadata": {},
   "outputs": [],
   "source": [
    "# click on world billionair\n",
    "click_btn=driver.find_element(By.XPATH,\"/html/body/div[1]/main/div/section/section[1]/div/div/div[1]/div/div[1]/div[1]/div[2]/a/h2\")\n",
    "click_btn.click()"
   ]
  },
  {
   "cell_type": "code",
   "execution_count": 184,
   "id": "c941615b",
   "metadata": {},
   "outputs": [],
   "source": [
    "# close popup\n",
    "click_btn=driver.find_element(By.XPATH,\"/html/body/div[8]/div/button\")\n",
    "click_btn.click()"
   ]
  },
  {
   "cell_type": "code",
   "execution_count": 190,
   "id": "31afea63",
   "metadata": {},
   "outputs": [],
   "source": [
    "# extract rank\n",
    "b_rank = []\n",
    "title_tags = driver.find_elements(By.XPATH, \"//div[@ class = 'rank']\")\n",
    "for i in title_tags:\n",
    "    b_rank.append(i.text)\n",
    "#b_rank"
   ]
  },
  {
   "cell_type": "code",
   "execution_count": 191,
   "id": "36622a93",
   "metadata": {},
   "outputs": [],
   "source": [
    "b_name = []\n",
    "billn_name = driver.find_elements(By.XPATH, \"//div[@ class = 'personName']\")\n",
    "for i in billn_name:\n",
    "    b_name.append(i.text)\n",
    "#b_name"
   ]
  },
  {
   "cell_type": "code",
   "execution_count": 192,
   "id": "0de14bf0",
   "metadata": {},
   "outputs": [],
   "source": [
    "b_net_worth = []\n",
    "billn_worth = driver.find_elements(By.XPATH, \"//div[@ class = 'netWorth']\")\n",
    "for i in billn_worth:\n",
    "    b_net_worth.append(i.text)\n",
    "#b_net_worth"
   ]
  },
  {
   "cell_type": "code",
   "execution_count": 197,
   "id": "a027b284",
   "metadata": {},
   "outputs": [],
   "source": [
    "b_age = []\n",
    "billn_age = driver.find_elements(By.XPATH, \"//div[@ class = 'age']\")\n",
    "for i in billn_age:\n",
    "    b_age.append(i.text)\n",
    "#b_age"
   ]
  },
  {
   "cell_type": "code",
   "execution_count": 193,
   "id": "cd55a6b6",
   "metadata": {},
   "outputs": [],
   "source": [
    "b_citiz = []\n",
    "billn_citz = driver.find_elements(By.XPATH, \"//div[@ class = 'countryOfCitizenship']\")\n",
    "for i in billn_citz:\n",
    "    b_citiz.append(i.text)\n",
    "#b_citiz"
   ]
  },
  {
   "cell_type": "code",
   "execution_count": 194,
   "id": "98c82fbb",
   "metadata": {},
   "outputs": [],
   "source": [
    "b_source = []\n",
    "billn_source = driver.find_elements(By.XPATH, \"//div[@ class = 'source']\")\n",
    "for i in billn_source:\n",
    "    b_source.append(i.text)\n",
    "#b_source"
   ]
  },
  {
   "cell_type": "code",
   "execution_count": 195,
   "id": "b1da9a5a",
   "metadata": {},
   "outputs": [],
   "source": [
    "b_indus = []\n",
    "billn_indus = driver.find_elements(By.XPATH, \"//div[@ class = 'category']\")\n",
    "for i in billn_indus:\n",
    "    b_indus.append(i.text)\n",
    "#b_indus"
   ]
  },
  {
   "cell_type": "code",
   "execution_count": 198,
   "id": "883ac38f",
   "metadata": {},
   "outputs": [
    {
     "data": {
      "text/html": [
       "<div>\n",
       "<style scoped>\n",
       "    .dataframe tbody tr th:only-of-type {\n",
       "        vertical-align: middle;\n",
       "    }\n",
       "\n",
       "    .dataframe tbody tr th {\n",
       "        vertical-align: top;\n",
       "    }\n",
       "\n",
       "    .dataframe thead th {\n",
       "        text-align: right;\n",
       "    }\n",
       "</style>\n",
       "<table border=\"1\" class=\"dataframe\">\n",
       "  <thead>\n",
       "    <tr style=\"text-align: right;\">\n",
       "      <th></th>\n",
       "      <th>Rank</th>\n",
       "      <th>Name</th>\n",
       "      <th>Worth</th>\n",
       "      <th>Age</th>\n",
       "      <th>Citizen</th>\n",
       "      <th>Source</th>\n",
       "      <th>Industry</th>\n",
       "    </tr>\n",
       "  </thead>\n",
       "  <tbody>\n",
       "    <tr>\n",
       "      <th>0</th>\n",
       "      <td>1.</td>\n",
       "      <td>Elon Musk</td>\n",
       "      <td>$219 B</td>\n",
       "      <td>50</td>\n",
       "      <td>United States</td>\n",
       "      <td>Tesla, SpaceX</td>\n",
       "      <td>Automotive</td>\n",
       "    </tr>\n",
       "    <tr>\n",
       "      <th>1</th>\n",
       "      <td>2.</td>\n",
       "      <td>Jeff Bezos</td>\n",
       "      <td>$171 B</td>\n",
       "      <td>58</td>\n",
       "      <td>United States</td>\n",
       "      <td>Amazon</td>\n",
       "      <td>Technology</td>\n",
       "    </tr>\n",
       "    <tr>\n",
       "      <th>2</th>\n",
       "      <td>3.</td>\n",
       "      <td>Bernard Arnault &amp; family</td>\n",
       "      <td>$158 B</td>\n",
       "      <td>73</td>\n",
       "      <td>France</td>\n",
       "      <td>LVMH</td>\n",
       "      <td>Fashion &amp; Retail</td>\n",
       "    </tr>\n",
       "    <tr>\n",
       "      <th>3</th>\n",
       "      <td>4.</td>\n",
       "      <td>Bill Gates</td>\n",
       "      <td>$129 B</td>\n",
       "      <td>66</td>\n",
       "      <td>United States</td>\n",
       "      <td>Microsoft</td>\n",
       "      <td>Technology</td>\n",
       "    </tr>\n",
       "    <tr>\n",
       "      <th>4</th>\n",
       "      <td>5.</td>\n",
       "      <td>Warren Buffett</td>\n",
       "      <td>$118 B</td>\n",
       "      <td>91</td>\n",
       "      <td>United States</td>\n",
       "      <td>Berkshire Hathaway</td>\n",
       "      <td>Finance &amp; Investments</td>\n",
       "    </tr>\n",
       "    <tr>\n",
       "      <th>...</th>\n",
       "      <td>...</td>\n",
       "      <td>...</td>\n",
       "      <td>...</td>\n",
       "      <td>...</td>\n",
       "      <td>...</td>\n",
       "      <td>...</td>\n",
       "      <td>...</td>\n",
       "    </tr>\n",
       "    <tr>\n",
       "      <th>195</th>\n",
       "      <td>192.</td>\n",
       "      <td>Marcel Herrmann Telles</td>\n",
       "      <td>$10.3 B</td>\n",
       "      <td>72</td>\n",
       "      <td>Brazil</td>\n",
       "      <td>beer</td>\n",
       "      <td>Food &amp; Beverage</td>\n",
       "    </tr>\n",
       "    <tr>\n",
       "      <th>196</th>\n",
       "      <td>197.</td>\n",
       "      <td>Leon Black</td>\n",
       "      <td>$10 B</td>\n",
       "      <td>70</td>\n",
       "      <td>United States</td>\n",
       "      <td>private equity</td>\n",
       "      <td>Finance &amp; Investments</td>\n",
       "    </tr>\n",
       "    <tr>\n",
       "      <th>197</th>\n",
       "      <td>197.</td>\n",
       "      <td>Joe Gebbia</td>\n",
       "      <td>$10 B</td>\n",
       "      <td>40</td>\n",
       "      <td>United States</td>\n",
       "      <td>Airbnb</td>\n",
       "      <td>Technology</td>\n",
       "    </tr>\n",
       "    <tr>\n",
       "      <th>198</th>\n",
       "      <td>197.</td>\n",
       "      <td>David Geffen</td>\n",
       "      <td>$10 B</td>\n",
       "      <td>79</td>\n",
       "      <td>United States</td>\n",
       "      <td>movies, record labels</td>\n",
       "      <td>Media &amp; Entertainment</td>\n",
       "    </tr>\n",
       "    <tr>\n",
       "      <th>199</th>\n",
       "      <td>197.</td>\n",
       "      <td>Yu Renrong</td>\n",
       "      <td>$10 B</td>\n",
       "      <td>56</td>\n",
       "      <td>China</td>\n",
       "      <td>semiconductors</td>\n",
       "      <td>Manufacturing</td>\n",
       "    </tr>\n",
       "  </tbody>\n",
       "</table>\n",
       "<p>200 rows × 7 columns</p>\n",
       "</div>"
      ],
      "text/plain": [
       "     Rank                      Name    Worth Age        Citizen  \\\n",
       "0      1.                 Elon Musk   $219 B  50  United States   \n",
       "1      2.                Jeff Bezos   $171 B  58  United States   \n",
       "2      3.  Bernard Arnault & family   $158 B  73         France   \n",
       "3      4.                Bill Gates   $129 B  66  United States   \n",
       "4      5.            Warren Buffett   $118 B  91  United States   \n",
       "..    ...                       ...      ...  ..            ...   \n",
       "195  192.    Marcel Herrmann Telles  $10.3 B  72         Brazil   \n",
       "196  197.                Leon Black    $10 B  70  United States   \n",
       "197  197.                Joe Gebbia    $10 B  40  United States   \n",
       "198  197.              David Geffen    $10 B  79  United States   \n",
       "199  197.                Yu Renrong    $10 B  56          China   \n",
       "\n",
       "                    Source               Industry  \n",
       "0            Tesla, SpaceX             Automotive  \n",
       "1                   Amazon             Technology  \n",
       "2                     LVMH       Fashion & Retail  \n",
       "3                Microsoft             Technology  \n",
       "4       Berkshire Hathaway  Finance & Investments  \n",
       "..                     ...                    ...  \n",
       "195                   beer        Food & Beverage  \n",
       "196         private equity  Finance & Investments  \n",
       "197                 Airbnb             Technology  \n",
       "198  movies, record labels  Media & Entertainment  \n",
       "199         semiconductors          Manufacturing  \n",
       "\n",
       "[200 rows x 7 columns]"
      ]
     },
     "execution_count": 198,
     "metadata": {},
     "output_type": "execute_result"
    }
   ],
   "source": [
    "billn = pd.DataFrame()\n",
    "billn['Rank'] = b_rank\n",
    "billn['Name'] = b_name\n",
    "billn['Worth'] = b_net_worth\n",
    "billn['Age'] = b_age\n",
    "billn['Citizen'] = b_citiz\n",
    "billn['Source'] = b_source\n",
    "billn['Industry'] = b_indus\n",
    "billn"
   ]
  },
  {
   "cell_type": "code",
   "execution_count": null,
   "id": "0972dc46",
   "metadata": {},
   "outputs": [],
   "source": []
  }
 ],
 "metadata": {
  "kernelspec": {
   "display_name": "Python 3 (ipykernel)",
   "language": "python",
   "name": "python3"
  },
  "language_info": {
   "codemirror_mode": {
    "name": "ipython",
    "version": 3
   },
   "file_extension": ".py",
   "mimetype": "text/x-python",
   "name": "python",
   "nbconvert_exporter": "python",
   "pygments_lexer": "ipython3",
   "version": "3.9.12"
  }
 },
 "nbformat": 4,
 "nbformat_minor": 5
}
