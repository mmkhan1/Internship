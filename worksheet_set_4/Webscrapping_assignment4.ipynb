{
 "cells": [
  {
   "cell_type": "code",
   "execution_count": 19,
   "id": "0f825971",
   "metadata": {},
   "outputs": [],
   "source": [
    "from bs4 import BeautifulSoup\n",
    "import requests\n",
    "import pandas as pd"
   ]
  },
  {
   "cell_type": "code",
   "execution_count": 20,
   "id": "3feeea33",
   "metadata": {},
   "outputs": [
    {
     "data": {
      "text/plain": [
       "<Response [200]>"
      ]
     },
     "execution_count": 20,
     "metadata": {},
     "output_type": "execute_result"
    }
   ],
   "source": [
    "#to get the data from president listing website\n",
    "page = requests.get('https://en.wikipedia.org/wiki/List_of_most-viewed_YouTube_videos')\n",
    "page"
   ]
  },
  {
   "cell_type": "markdown",
   "id": "c173cdbd",
   "metadata": {},
   "source": [
    "# Q1 youtube most viewd videos"
   ]
  },
  {
   "cell_type": "code",
   "execution_count": null,
   "id": "6e282f79",
   "metadata": {
    "scrolled": false
   },
   "outputs": [],
   "source": [
    "#create a variable\n",
    "soup = BeautifulSoup(page.content)\n",
    "soup"
   ]
  },
  {
   "cell_type": "code",
   "execution_count": 32,
   "id": "f5921725",
   "metadata": {},
   "outputs": [
    {
     "data": {
      "text/plain": [
       "['music videos',\n",
       " 'regional restrictions',\n",
       " 'Baby Shark Dance',\n",
       " 'Johny Johny Yes Papa',\n",
       " 'Cocomelon – Nursery Rhymes',\n",
       " 'Cocomelon – Nursery Rhymes',\n",
       " 'Cocomelon – Nursery Rhymes',\n",
       " 'Alan Walker',\n",
       " 'Baby Shark Dance',\n",
       " 'Baby Shark Dance',\n",
       " 'Johny Johny Yes Papa',\n",
       " 'Baby Shark Dance',\n",
       " 'List of most-viewed online trailers in the first 24 hours',\n",
       " 'Wired',\n",
       " 'CNet',\n",
       " 'Criticism',\n",
       " 'Censorship',\n",
       " 'KSI vs. Logan Paul',\n",
       " 'music videos']"
      ]
     },
     "execution_count": 32,
     "metadata": {},
     "output_type": "execute_result"
    }
   ],
   "source": [
    "v_name = []\n",
    "\n",
    "for i in soup.find_all('a',class_=\"mw-redirect\"):\n",
    "    v_name.append(i.text.replace(',',\" \"))\n",
    "    #odi_match.append(i.text.replace(',',\" \"))\n",
    "v_name\n",
    "\n",
    "#del odi_match[1::2]\n",
    "#odi_match\n",
    "#/html/body/div[3]/div[3]/div[5]/div[1]/table[2]/tbody/tr[2]/td[1]"
   ]
  },
  {
   "cell_type": "code",
   "execution_count": 33,
   "id": "ea94fea9",
   "metadata": {},
   "outputs": [
    {
     "data": {
      "text/plain": [
       "[]"
      ]
     },
     "execution_count": 33,
     "metadata": {},
     "output_type": "execute_result"
    }
   ],
   "source": [
    "v_rank = []\n",
    "\n",
    "for i in soup.find_all('th', class_=\"mw-headerSort headerSortUp\"):\n",
    "    v_rank.append(i.text.replace(',',\" \"))\n",
    "v_rank"
   ]
  },
  {
   "cell_type": "markdown",
   "id": "c71ff255",
   "metadata": {},
   "source": [
    "# Q2 Scrape the details team India’s international fixtures from bcci.tv."
   ]
  },
  {
   "cell_type": "code",
   "execution_count": 1,
   "id": "e7fcfa82",
   "metadata": {},
   "outputs": [],
   "source": [
    "import selenium\n",
    "from selenium import webdriver\n",
    "import pandas as pd\n",
    "from selenium.webdriver.common.by import By\n",
    "import warnings\n",
    "warnings.filterwarnings(\"ignore\")\n",
    "import time"
   ]
  },
  {
   "cell_type": "code",
   "execution_count": 105,
   "id": "6361118a",
   "metadata": {},
   "outputs": [],
   "source": [
    "driver = webdriver.Chrome(r'C:\\Users\\mohsi\\Downloads\\chromedriver_win32\\chromedriver.exe')"
   ]
  },
  {
   "cell_type": "code",
   "execution_count": 106,
   "id": "316ba036",
   "metadata": {},
   "outputs": [],
   "source": [
    "driver.maximize_window()"
   ]
  },
  {
   "cell_type": "code",
   "execution_count": 107,
   "id": "95dcc3a1",
   "metadata": {},
   "outputs": [],
   "source": [
    "url = 'http://www.bcci.tv/'\n",
    "driver.get(url)"
   ]
  },
  {
   "cell_type": "code",
   "execution_count": 108,
   "id": "0a1da2db",
   "metadata": {},
   "outputs": [],
   "source": [
    "# click on button\n",
    "click_btn = driver.find_element(By.CLASS_NAME,\"nav-link\")\n",
    "click_btn.click()"
   ]
  },
  {
   "cell_type": "code",
   "execution_count": 47,
   "id": "19d0e51a",
   "metadata": {},
   "outputs": [],
   "source": [
    "# for reload belwo page details\n",
    "for _ in range(50):\n",
    "    driver.execute_script(\"window.scrollBy(0,50)\")"
   ]
  },
  {
   "cell_type": "code",
   "execution_count": 130,
   "id": "8cc8a2ce",
   "metadata": {},
   "outputs": [],
   "source": [
    "M_title = []\n",
    "M_series = []\n",
    "M_place = []\n",
    "M_date = []\n",
    "M_time = []"
   ]
  },
  {
   "cell_type": "code",
   "execution_count": 131,
   "id": "2cc3a4de",
   "metadata": {},
   "outputs": [],
   "source": [
    "    # for page reload\n",
    "    for _ in range(10):\n",
    "        driver.execute_script(\"window.scrollBy(0,10)\")\n",
    "    \n",
    "    for i in range(100): #collect multiple data\n",
    "        m_title=driver.find_elements(By.XPATH,\"//span[@class='matchOrderText ng-binding ng-scope']\")\n",
    "        m_series=driver.find_elements(By.XPATH,\"//span[@class='ng-binding']\")\n",
    "        m_place =driver.find_elements(By.XPATH,\"//span[@class='ng-binding ng-scope']\")\n",
    "        m_date=driver.find_elements(By.XPATH,\"//span[@class='ng-binding']\")\n",
    "        m_time=driver.find_elements(By.XPATH,\"//h5[@class='text-right ng-binding']\")\n",
    "    \n",
    "        for j  in m_title:\n",
    "            M_title.append(j.text)\n",
    "        M_title[:100]    \n",
    "    \n",
    "    \n",
    "        for k in m_series:\n",
    "            M_series.append(k.text)\n",
    "        M_series[:100]\n",
    "    \n",
    "    \n",
    "        for l in m_place:\n",
    "            M_place.append(l.text)\n",
    "        M_place[:100]\n",
    "    \n",
    "        for n in m_date:\n",
    "            M_date.append(n.text)\n",
    "        M_date[:100]\n",
    "        \n",
    "        for n in m_time:\n",
    "            M_time.append(n.text)\n",
    "        M_time[:100]\n"
   ]
  },
  {
   "cell_type": "code",
   "execution_count": 132,
   "id": "4a131d11",
   "metadata": {},
   "outputs": [
    {
     "data": {
      "text/plain": [
       "(800, 800, 800, 800, 800)"
      ]
     },
     "execution_count": 132,
     "metadata": {},
     "output_type": "execute_result"
    }
   ],
   "source": [
    "len(M_title),len(M_series),len(M_place),len(M_date),len(M_time)"
   ]
  },
  {
   "cell_type": "code",
   "execution_count": 133,
   "id": "592fe213",
   "metadata": {},
   "outputs": [
    {
     "data": {
      "text/html": [
       "<div>\n",
       "<style scoped>\n",
       "    .dataframe tbody tr th:only-of-type {\n",
       "        vertical-align: middle;\n",
       "    }\n",
       "\n",
       "    .dataframe tbody tr th {\n",
       "        vertical-align: top;\n",
       "    }\n",
       "\n",
       "    .dataframe thead th {\n",
       "        text-align: right;\n",
       "    }\n",
       "</style>\n",
       "<table border=\"1\" class=\"dataframe\">\n",
       "  <thead>\n",
       "    <tr style=\"text-align: right;\">\n",
       "      <th></th>\n",
       "      <th>Title</th>\n",
       "      <th>Series Name</th>\n",
       "      <th>Place</th>\n",
       "      <th>Date</th>\n",
       "      <th>Time</th>\n",
       "    </tr>\n",
       "  </thead>\n",
       "  <tbody>\n",
       "    <tr>\n",
       "      <th>0</th>\n",
       "      <td>1st T20I -</td>\n",
       "      <td>AUSTRALIA WOMEN TOUR OF INDIA 2022</td>\n",
       "      <td>DY Patil Stadium,</td>\n",
       "      <td>AUSTRALIA WOMEN TOUR OF INDIA 2022</td>\n",
       "      <td>5:30 PM GST</td>\n",
       "    </tr>\n",
       "    <tr>\n",
       "      <th>1</th>\n",
       "      <td>3rd ODI -</td>\n",
       "      <td>INDIA TOUR OF BANGLADESH ODI SERIES 2022-23</td>\n",
       "      <td>Zahur Ahmed Chowdhury Stadium,</td>\n",
       "      <td>INDIA TOUR OF BANGLADESH ODI SERIES 2022-23</td>\n",
       "      <td>10:00 AM GST</td>\n",
       "    </tr>\n",
       "    <tr>\n",
       "      <th>2</th>\n",
       "      <td>2nd T20I -</td>\n",
       "      <td>AUSTRALIA WOMEN TOUR OF INDIA 2022</td>\n",
       "      <td>DY Patil Stadium,</td>\n",
       "      <td>AUSTRALIA WOMEN TOUR OF INDIA 2022</td>\n",
       "      <td>5:30 PM GST</td>\n",
       "    </tr>\n",
       "    <tr>\n",
       "      <th>3</th>\n",
       "      <td>1st Test -</td>\n",
       "      <td>INDIA TOUR OF BANGLADESH TEST SERIES 2022-23</td>\n",
       "      <td>Zahur Ahmed Chowdhury Stadium,</td>\n",
       "      <td>INDIA TOUR OF BANGLADESH TEST SERIES 2022-23</td>\n",
       "      <td>8:00 AM GST</td>\n",
       "    </tr>\n",
       "    <tr>\n",
       "      <th>4</th>\n",
       "      <td>3rd T20I -</td>\n",
       "      <td>AUSTRALIA WOMEN TOUR OF INDIA 2022</td>\n",
       "      <td>Brabourne - CCI,</td>\n",
       "      <td>AUSTRALIA WOMEN TOUR OF INDIA 2022</td>\n",
       "      <td>5:30 PM GST</td>\n",
       "    </tr>\n",
       "    <tr>\n",
       "      <th>...</th>\n",
       "      <td>...</td>\n",
       "      <td>...</td>\n",
       "      <td>...</td>\n",
       "      <td>...</td>\n",
       "      <td>...</td>\n",
       "    </tr>\n",
       "    <tr>\n",
       "      <th>795</th>\n",
       "      <td>1st Test -</td>\n",
       "      <td>INDIA TOUR OF BANGLADESH TEST SERIES 2022-23</td>\n",
       "      <td>Zahur Ahmed Chowdhury Stadium,</td>\n",
       "      <td>INDIA TOUR OF BANGLADESH TEST SERIES 2022-23</td>\n",
       "      <td>8:00 AM GST</td>\n",
       "    </tr>\n",
       "    <tr>\n",
       "      <th>796</th>\n",
       "      <td>3rd T20I -</td>\n",
       "      <td>AUSTRALIA WOMEN TOUR OF INDIA 2022</td>\n",
       "      <td>Brabourne - CCI,</td>\n",
       "      <td>AUSTRALIA WOMEN TOUR OF INDIA 2022</td>\n",
       "      <td>5:30 PM GST</td>\n",
       "    </tr>\n",
       "    <tr>\n",
       "      <th>797</th>\n",
       "      <td>4th T20I -</td>\n",
       "      <td>AUSTRALIA WOMEN TOUR OF INDIA 2022</td>\n",
       "      <td>Brabourne - CCI,</td>\n",
       "      <td>AUSTRALIA WOMEN TOUR OF INDIA 2022</td>\n",
       "      <td>5:30 PM GST</td>\n",
       "    </tr>\n",
       "    <tr>\n",
       "      <th>798</th>\n",
       "      <td>5th T20I -</td>\n",
       "      <td>AUSTRALIA WOMEN TOUR OF INDIA 2022</td>\n",
       "      <td>Brabourne - CCI,</td>\n",
       "      <td>AUSTRALIA WOMEN TOUR OF INDIA 2022</td>\n",
       "      <td>5:30 PM GST</td>\n",
       "    </tr>\n",
       "    <tr>\n",
       "      <th>799</th>\n",
       "      <td>2nd Test -</td>\n",
       "      <td>INDIA TOUR OF BANGLADESH TEST SERIES 2022-23</td>\n",
       "      <td>Shere Bangla National Stadium, Mirpur,</td>\n",
       "      <td>INDIA TOUR OF BANGLADESH TEST SERIES 2022-23</td>\n",
       "      <td>8:00 AM GST</td>\n",
       "    </tr>\n",
       "  </tbody>\n",
       "</table>\n",
       "<p>800 rows × 5 columns</p>\n",
       "</div>"
      ],
      "text/plain": [
       "          Title                                   Series Name  \\\n",
       "0    1st T20I -            AUSTRALIA WOMEN TOUR OF INDIA 2022   \n",
       "1     3rd ODI -   INDIA TOUR OF BANGLADESH ODI SERIES 2022-23   \n",
       "2    2nd T20I -            AUSTRALIA WOMEN TOUR OF INDIA 2022   \n",
       "3    1st Test -  INDIA TOUR OF BANGLADESH TEST SERIES 2022-23   \n",
       "4    3rd T20I -            AUSTRALIA WOMEN TOUR OF INDIA 2022   \n",
       "..          ...                                           ...   \n",
       "795  1st Test -  INDIA TOUR OF BANGLADESH TEST SERIES 2022-23   \n",
       "796  3rd T20I -            AUSTRALIA WOMEN TOUR OF INDIA 2022   \n",
       "797  4th T20I -            AUSTRALIA WOMEN TOUR OF INDIA 2022   \n",
       "798  5th T20I -            AUSTRALIA WOMEN TOUR OF INDIA 2022   \n",
       "799  2nd Test -  INDIA TOUR OF BANGLADESH TEST SERIES 2022-23   \n",
       "\n",
       "                                      Place  \\\n",
       "0                         DY Patil Stadium,   \n",
       "1            Zahur Ahmed Chowdhury Stadium,   \n",
       "2                         DY Patil Stadium,   \n",
       "3            Zahur Ahmed Chowdhury Stadium,   \n",
       "4                          Brabourne - CCI,   \n",
       "..                                      ...   \n",
       "795          Zahur Ahmed Chowdhury Stadium,   \n",
       "796                        Brabourne - CCI,   \n",
       "797                        Brabourne - CCI,   \n",
       "798                        Brabourne - CCI,   \n",
       "799  Shere Bangla National Stadium, Mirpur,   \n",
       "\n",
       "                                             Date          Time  \n",
       "0              AUSTRALIA WOMEN TOUR OF INDIA 2022   5:30 PM GST  \n",
       "1     INDIA TOUR OF BANGLADESH ODI SERIES 2022-23  10:00 AM GST  \n",
       "2              AUSTRALIA WOMEN TOUR OF INDIA 2022   5:30 PM GST  \n",
       "3    INDIA TOUR OF BANGLADESH TEST SERIES 2022-23   8:00 AM GST  \n",
       "4              AUSTRALIA WOMEN TOUR OF INDIA 2022   5:30 PM GST  \n",
       "..                                            ...           ...  \n",
       "795  INDIA TOUR OF BANGLADESH TEST SERIES 2022-23   8:00 AM GST  \n",
       "796            AUSTRALIA WOMEN TOUR OF INDIA 2022   5:30 PM GST  \n",
       "797            AUSTRALIA WOMEN TOUR OF INDIA 2022   5:30 PM GST  \n",
       "798            AUSTRALIA WOMEN TOUR OF INDIA 2022   5:30 PM GST  \n",
       "799  INDIA TOUR OF BANGLADESH TEST SERIES 2022-23   8:00 AM GST  \n",
       "\n",
       "[800 rows x 5 columns]"
      ]
     },
     "execution_count": 133,
     "metadata": {},
     "output_type": "execute_result"
    }
   ],
   "source": [
    "# create data set\n",
    "m_ds=pd.DataFrame({})\n",
    "m_ds['Title'] = M_title\n",
    "m_ds['Series Name']=M_series\n",
    "m_ds['Place']=M_place\n",
    "m_ds['Date']=M_date\n",
    "m_ds['Time']=M_time\n",
    "m_ds"
   ]
  },
  {
   "cell_type": "markdown",
   "id": "7f89dacd",
   "metadata": {},
   "source": [
    "# Q3  Scrape the details of selenium exception from guru99.com."
   ]
  },
  {
   "cell_type": "code",
   "execution_count": 146,
   "id": "b661494f",
   "metadata": {},
   "outputs": [],
   "source": [
    "driver = webdriver.Chrome(r'C:\\Users\\mohsi\\Downloads\\chromedriver_win32\\chromedriver.exe')"
   ]
  },
  {
   "cell_type": "code",
   "execution_count": 147,
   "id": "4d9ee4d7",
   "metadata": {},
   "outputs": [],
   "source": [
    "url = 'http://www.guru99.com/'\n",
    "driver.get(url)"
   ]
  },
  {
   "cell_type": "code",
   "execution_count": 148,
   "id": "25bbe68d",
   "metadata": {},
   "outputs": [],
   "source": [
    "driver.maximize_window()"
   ]
  },
  {
   "cell_type": "code",
   "execution_count": 149,
   "id": "8b7381f5",
   "metadata": {},
   "outputs": [],
   "source": [
    "# click on button\n",
    "click_btn = driver.find_element(By.XPATH,\"/html/body/div[1]/div/div/div/main/div/article/div/div[1]/div[1]/div[2]/div/div[2]/span[8]/a\")\n",
    "click_btn.click()"
   ]
  },
  {
   "cell_type": "code",
   "execution_count": 150,
   "id": "cc6aacca",
   "metadata": {},
   "outputs": [],
   "source": [
    "# click on button\n",
    "click_btn = driver.find_element(By.XPATH,\"/html/body/div[1]/div/div/div/main/div/article/div/div/table[5]/tbody/tr[34]/td[1]/a\")\n",
    "click_btn.click()"
   ]
  },
  {
   "cell_type": "code",
   "execution_count": 245,
   "id": "02d262b3",
   "metadata": {},
   "outputs": [],
   "source": [
    "S_name = []\n",
    "S_desc = []"
   ]
  },
  {
   "cell_type": "code",
   "execution_count": 242,
   "id": "87c5bd23",
   "metadata": {},
   "outputs": [],
   "source": [
    "# create data set -------- Length of value does not match length of index error solution\n",
    "#df = pd.DataFrame({'Name': S_name})\n",
    "#df['Description'] = pd.Series(S_desc)\n",
    "#df.head()"
   ]
  },
  {
   "cell_type": "code",
   "execution_count": 246,
   "id": "b6eb97ec",
   "metadata": {},
   "outputs": [],
   "source": [
    "for i in range(1): #collect multiple data\n",
    "        s_name=driver.find_elements(By.TAG_NAME,\"p\")\n",
    "\n",
    "        for j  in s_name:\n",
    "            S_name.append(j.text)\n",
    "        S_name[:1]   "
   ]
  },
  {
   "cell_type": "code",
   "execution_count": 247,
   "id": "b01243fb",
   "metadata": {},
   "outputs": [],
   "source": [
    "df=pd.DataFrame({})\n",
    "df['Desc'] = S_name\n"
   ]
  },
  {
   "cell_type": "code",
   "execution_count": 248,
   "id": "67d33585",
   "metadata": {},
   "outputs": [],
   "source": [
    "df[['Name','Description']] = df.Desc.str.split(\":\",expand=True)"
   ]
  },
  {
   "cell_type": "code",
   "execution_count": 254,
   "id": "2bd702b6",
   "metadata": {},
   "outputs": [
    {
     "data": {
      "text/html": [
       "<div>\n",
       "<style scoped>\n",
       "    .dataframe tbody tr th:only-of-type {\n",
       "        vertical-align: middle;\n",
       "    }\n",
       "\n",
       "    .dataframe tbody tr th {\n",
       "        vertical-align: top;\n",
       "    }\n",
       "\n",
       "    .dataframe thead th {\n",
       "        text-align: right;\n",
       "    }\n",
       "</style>\n",
       "<table border=\"1\" class=\"dataframe\">\n",
       "  <thead>\n",
       "    <tr style=\"text-align: right;\">\n",
       "      <th></th>\n",
       "      <th>Desc</th>\n",
       "      <th>Name</th>\n",
       "      <th>Description</th>\n",
       "    </tr>\n",
       "  </thead>\n",
       "  <tbody>\n",
       "    <tr>\n",
       "      <th>0</th>\n",
       "      <td>An exception is an error that happens at the t...</td>\n",
       "      <td>An exception is an error that happens at the t...</td>\n",
       "      <td>None</td>\n",
       "    </tr>\n",
       "    <tr>\n",
       "      <th>1</th>\n",
       "      <td>The exception indicates that, although the eve...</td>\n",
       "      <td>The exception indicates that, although the eve...</td>\n",
       "      <td>None</td>\n",
       "    </tr>\n",
       "    <tr>\n",
       "      <th>2</th>\n",
       "      <td>1. ElementNotVisibleException: This type of Se...</td>\n",
       "      <td>1. ElementNotVisibleException</td>\n",
       "      <td>This type of Selenium exception occurs when a...</td>\n",
       "    </tr>\n",
       "    <tr>\n",
       "      <th>3</th>\n",
       "      <td>2. ElementNotSelectableException: This Seleniu...</td>\n",
       "      <td>2. ElementNotSelectableException</td>\n",
       "      <td>This Selenium exception occurs when an elemen...</td>\n",
       "    </tr>\n",
       "    <tr>\n",
       "      <th>4</th>\n",
       "      <td>3. NoSuchElementException: This Exception occu...</td>\n",
       "      <td>3. NoSuchElementException</td>\n",
       "      <td>This Exception occurs if an element could not...</td>\n",
       "    </tr>\n",
       "  </tbody>\n",
       "</table>\n",
       "</div>"
      ],
      "text/plain": [
       "                                                Desc  \\\n",
       "0  An exception is an error that happens at the t...   \n",
       "1  The exception indicates that, although the eve...   \n",
       "2  1. ElementNotVisibleException: This type of Se...   \n",
       "3  2. ElementNotSelectableException: This Seleniu...   \n",
       "4  3. NoSuchElementException: This Exception occu...   \n",
       "\n",
       "                                                Name  \\\n",
       "0  An exception is an error that happens at the t...   \n",
       "1  The exception indicates that, although the eve...   \n",
       "2                      1. ElementNotVisibleException   \n",
       "3                   2. ElementNotSelectableException   \n",
       "4                          3. NoSuchElementException   \n",
       "\n",
       "                                         Description  \n",
       "0                                               None  \n",
       "1                                               None  \n",
       "2   This type of Selenium exception occurs when a...  \n",
       "3   This Selenium exception occurs when an elemen...  \n",
       "4   This Exception occurs if an element could not...  "
      ]
     },
     "execution_count": 254,
     "metadata": {},
     "output_type": "execute_result"
    }
   ],
   "source": [
    "df.head()"
   ]
  },
  {
   "cell_type": "code",
   "execution_count": 258,
   "id": "39d49d3f",
   "metadata": {},
   "outputs": [
    {
     "data": {
      "text/html": [
       "<div>\n",
       "<style scoped>\n",
       "    .dataframe tbody tr th:only-of-type {\n",
       "        vertical-align: middle;\n",
       "    }\n",
       "\n",
       "    .dataframe tbody tr th {\n",
       "        vertical-align: top;\n",
       "    }\n",
       "\n",
       "    .dataframe thead th {\n",
       "        text-align: right;\n",
       "    }\n",
       "</style>\n",
       "<table border=\"1\" class=\"dataframe\">\n",
       "  <thead>\n",
       "    <tr style=\"text-align: right;\">\n",
       "      <th></th>\n",
       "      <th>Desc</th>\n",
       "      <th>Name</th>\n",
       "      <th>Description</th>\n",
       "    </tr>\n",
       "  </thead>\n",
       "  <tbody>\n",
       "    <tr>\n",
       "      <th>0</th>\n",
       "      <td>An exception is an error that happens at the t...</td>\n",
       "      <td>An exception is an error that happens at the t...</td>\n",
       "      <td>None</td>\n",
       "    </tr>\n",
       "    <tr>\n",
       "      <th>1</th>\n",
       "      <td>The exception indicates that, although the eve...</td>\n",
       "      <td>The exception indicates that, although the eve...</td>\n",
       "      <td>None</td>\n",
       "    </tr>\n",
       "    <tr>\n",
       "      <th>2</th>\n",
       "      <td>1. ElementNotVisibleException: This type of Se...</td>\n",
       "      <td>1. ElementNotVisibleException</td>\n",
       "      <td>This type of Selenium exception occurs when a...</td>\n",
       "    </tr>\n",
       "    <tr>\n",
       "      <th>3</th>\n",
       "      <td>2. ElementNotSelectableException: This Seleniu...</td>\n",
       "      <td>2. ElementNotSelectableException</td>\n",
       "      <td>This Selenium exception occurs when an elemen...</td>\n",
       "    </tr>\n",
       "    <tr>\n",
       "      <th>4</th>\n",
       "      <td>3. NoSuchElementException: This Exception occu...</td>\n",
       "      <td>3. NoSuchElementException</td>\n",
       "      <td>This Exception occurs if an element could not...</td>\n",
       "    </tr>\n",
       "  </tbody>\n",
       "</table>\n",
       "</div>"
      ],
      "text/plain": [
       "                                                Desc  \\\n",
       "0  An exception is an error that happens at the t...   \n",
       "1  The exception indicates that, although the eve...   \n",
       "2  1. ElementNotVisibleException: This type of Se...   \n",
       "3  2. ElementNotSelectableException: This Seleniu...   \n",
       "4  3. NoSuchElementException: This Exception occu...   \n",
       "\n",
       "                                                Name  \\\n",
       "0  An exception is an error that happens at the t...   \n",
       "1  The exception indicates that, although the eve...   \n",
       "2                      1. ElementNotVisibleException   \n",
       "3                   2. ElementNotSelectableException   \n",
       "4                          3. NoSuchElementException   \n",
       "\n",
       "                                         Description  \n",
       "0                                               None  \n",
       "1                                               None  \n",
       "2   This type of Selenium exception occurs when a...  \n",
       "3   This Selenium exception occurs when an elemen...  \n",
       "4   This Exception occurs if an element could not...  "
      ]
     },
     "execution_count": 258,
     "metadata": {},
     "output_type": "execute_result"
    }
   ],
   "source": [
    "df.drop(['Desc'], axis=1)\n",
    "df.head()"
   ]
  },
  {
   "cell_type": "markdown",
   "id": "1182582c",
   "metadata": {},
   "source": [
    "# Q4 Scrape the details of State-wise GDP of India from statisticstime.com"
   ]
  },
  {
   "cell_type": "code",
   "execution_count": 268,
   "id": "e2b1ba6f",
   "metadata": {},
   "outputs": [],
   "source": [
    "# to import select library\n",
    "from selenium.webdriver.support.ui import Select"
   ]
  },
  {
   "cell_type": "code",
   "execution_count": 2,
   "id": "43efb927",
   "metadata": {},
   "outputs": [],
   "source": [
    "driver = webdriver.Chrome(r'C:\\Users\\mohsi\\Downloads\\chromedriver_win32\\chromedriver.exe')"
   ]
  },
  {
   "cell_type": "code",
   "execution_count": 11,
   "id": "5e7e9db8",
   "metadata": {},
   "outputs": [],
   "source": [
    "url = 'http://statisticstimes.com/'\n",
    "driver.get(url)"
   ]
  },
  {
   "cell_type": "code",
   "execution_count": 4,
   "id": "0635030c",
   "metadata": {},
   "outputs": [],
   "source": [
    "driver.maximize_window()"
   ]
  },
  {
   "cell_type": "code",
   "execution_count": 12,
   "id": "e6e84ed8",
   "metadata": {},
   "outputs": [],
   "source": [
    "# click on dropdown menu\n",
    "click_btn = driver.find_element(By.XPATH,\"/html/body/div[2]/div[1]/div[2]/div[2]/button\")\n",
    "click_btn.click()"
   ]
  },
  {
   "cell_type": "code",
   "execution_count": 13,
   "id": "30a760e5",
   "metadata": {},
   "outputs": [],
   "source": [
    "# click on dropdown menu\n",
    "click_btn = driver.find_element(By.XPATH,\"/html/body/div[2]/div[1]/div[2]/div[2]/div/a[3]\")\n",
    "click_btn.click()"
   ]
  },
  {
   "cell_type": "code",
   "execution_count": 14,
   "id": "5def9935",
   "metadata": {},
   "outputs": [],
   "source": [
    "# click on state wise gdp link\n",
    "click_btn = driver.find_element(By.XPATH,\"/html/body/div[2]/div[2]/div[2]/ul/li[1]/a\")\n",
    "click_btn.click()"
   ]
  },
  {
   "cell_type": "code",
   "execution_count": 27,
   "id": "41ee4d68",
   "metadata": {},
   "outputs": [],
   "source": [
    "gdp_rank = []\n",
    "gdp_name = []\n",
    "gsdp_18_19 = []\n",
    "gsdp_g = []\n",
    "share_g = []\n",
    "gdp_bill = []"
   ]
  },
  {
   "cell_type": "code",
   "execution_count": null,
   "id": "70c445e8",
   "metadata": {},
   "outputs": [],
   "source": [
    "  # scarp details\n",
    "    \n",
    "for i in range(1): #collect multiple data\n",
    "        g_rank=driver.find_elements(By.XPATH,\"//td[@class='data1']\")\n",
    "        g_name=driver.find_elements(By.XPATH,\"//td[@class='name']\")\n",
    "        g_current=driver.find_elements(By.XPATH,\"//td[@class='data sorting_1']\")\n",
    "        g_gsdp=driver.find_elements(By.XPATH,\"//td[@class='data']\")\n",
    "        g_share=driver.find_elements(By.XPATH,\"//td[@class='data']\")\n",
    "        g_gdp=driver.find_elements(By.XPATH,\"//td[@class='data']\")\n",
    "    \n",
    "        for j  in g_rank:\n",
    "            gdp_rank.append(j.text)\n",
    "        gdp_rank    \n",
    "    \n",
    "    \n",
    "        for k in g_name:\n",
    "            gdp_name.append(k.text)\n",
    "        gdp_name\n",
    "    \n",
    "    \n",
    "        for l in g_current:\n",
    "            gsdp_18_19.append(l.text)\n",
    "        gsdp_18_19\n",
    "    \n",
    "        for n in g_gsdp:\n",
    "            gsdp_g.append(n.text)\n",
    "        gsdp_g\n",
    "        \n",
    "        for n in g_share:\n",
    "            share_g.append(n.text)\n",
    "        share_g\n",
    "        \n",
    "        for n in g_gdp:\n",
    "            gdp_bill.append(n.text)\n",
    "        gdp_bill"
   ]
  },
  {
   "cell_type": "code",
   "execution_count": 19,
   "id": "072a5371",
   "metadata": {},
   "outputs": [
    {
     "data": {
      "text/plain": [
       "(680, 680, 660, 3080, 3080)"
      ]
     },
     "execution_count": 19,
     "metadata": {},
     "output_type": "execute_result"
    }
   ],
   "source": [
    "len(gdp_rank), len(gdp_name), len(gsdp_18_19), len(gsdp_g), len(share_g), len(gdp_bill)"
   ]
  },
  {
   "cell_type": "code",
   "execution_count": 23,
   "id": "af7c2382",
   "metadata": {},
   "outputs": [
    {
     "data": {
      "text/html": [
       "<div>\n",
       "<style scoped>\n",
       "    .dataframe tbody tr th:only-of-type {\n",
       "        vertical-align: middle;\n",
       "    }\n",
       "\n",
       "    .dataframe tbody tr th {\n",
       "        vertical-align: top;\n",
       "    }\n",
       "\n",
       "    .dataframe thead th {\n",
       "        text-align: right;\n",
       "    }\n",
       "</style>\n",
       "<table border=\"1\" class=\"dataframe\">\n",
       "  <thead>\n",
       "    <tr style=\"text-align: right;\">\n",
       "      <th></th>\n",
       "      <th>Rank</th>\n",
       "      <th>Name</th>\n",
       "      <th>GSDP 18-19</th>\n",
       "      <th>GSDP 19-20</th>\n",
       "      <th>Share</th>\n",
       "    </tr>\n",
       "  </thead>\n",
       "  <tbody>\n",
       "    <tr>\n",
       "      <th>0</th>\n",
       "      <td>1</td>\n",
       "      <td>Maharashtra</td>\n",
       "      <td>2,632,792</td>\n",
       "      <td>-</td>\n",
       "      <td>-</td>\n",
       "    </tr>\n",
       "    <tr>\n",
       "      <th>1</th>\n",
       "      <td>2</td>\n",
       "      <td>Tamil Nadu</td>\n",
       "      <td>1,630,208</td>\n",
       "      <td>13.94%</td>\n",
       "      <td>13.94%</td>\n",
       "    </tr>\n",
       "    <tr>\n",
       "      <th>2</th>\n",
       "      <td>3</td>\n",
       "      <td>Uttar Pradesh</td>\n",
       "      <td>1,584,764</td>\n",
       "      <td>399.921</td>\n",
       "      <td>399.921</td>\n",
       "    </tr>\n",
       "    <tr>\n",
       "      <th>3</th>\n",
       "      <td>4</td>\n",
       "      <td>Gujarat</td>\n",
       "      <td>1,502,899</td>\n",
       "      <td>-</td>\n",
       "      <td>-</td>\n",
       "    </tr>\n",
       "    <tr>\n",
       "      <th>4</th>\n",
       "      <td>5</td>\n",
       "      <td>Karnataka</td>\n",
       "      <td>1,493,127</td>\n",
       "      <td>2,039,074</td>\n",
       "      <td>2,039,074</td>\n",
       "    </tr>\n",
       "  </tbody>\n",
       "</table>\n",
       "</div>"
      ],
      "text/plain": [
       "  Rank           Name GSDP 18-19 GSDP 19-20      Share\n",
       "0    1    Maharashtra  2,632,792          -          -\n",
       "1    2     Tamil Nadu  1,630,208     13.94%     13.94%\n",
       "2    3  Uttar Pradesh  1,584,764    399.921    399.921\n",
       "3    4        Gujarat  1,502,899          -          -\n",
       "4    5      Karnataka  1,493,127  2,039,074  2,039,074"
      ]
     },
     "execution_count": 23,
     "metadata": {},
     "output_type": "execute_result"
    }
   ],
   "source": [
    "df = pd.DataFrame({'Rank': gdp_rank})\n",
    "df['Name'] = pd.Series(gdp_name)\n",
    "df['GSDP 18-19'] = pd.Series(gsdp_18_19)\n",
    "df['GSDP 19-20'] = pd.Series(gsdp_g)\n",
    "df['Share'] = pd.Series(share_g)\n",
    "df['GDP'] = pd.Series(gdp_bill)\n",
    "df.head()"
   ]
  },
  {
   "cell_type": "code",
   "execution_count": null,
   "id": "935252cb",
   "metadata": {},
   "outputs": [],
   "source": []
  },
  {
   "cell_type": "code",
   "execution_count": null,
   "id": "52b8b952",
   "metadata": {},
   "outputs": [],
   "source": []
  }
 ],
 "metadata": {
  "kernelspec": {
   "display_name": "Python 3 (ipykernel)",
   "language": "python",
   "name": "python3"
  },
  "language_info": {
   "codemirror_mode": {
    "name": "ipython",
    "version": 3
   },
   "file_extension": ".py",
   "mimetype": "text/x-python",
   "name": "python",
   "nbconvert_exporter": "python",
   "pygments_lexer": "ipython3",
   "version": "3.9.12"
  }
 },
 "nbformat": 4,
 "nbformat_minor": 5
}
